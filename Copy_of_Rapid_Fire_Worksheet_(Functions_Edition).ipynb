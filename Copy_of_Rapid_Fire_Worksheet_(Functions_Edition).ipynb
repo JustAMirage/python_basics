{
  "nbformat": 4,
  "nbformat_minor": 0,
  "metadata": {
    "colab": {
      "name": "Copy of Rapid Fire Worksheet (Functions Edition).ipynb",
      "provenance": [],
      "collapsed_sections": [
        "_x-c_bxZwlJ0",
        "-xE7jNJA0jhq",
        "ccvCpZXe-jOS",
        "A6au6o5PAw1A",
        "tNX_FXapKddq",
        "uYDItYE-LwOC",
        "Oe8YzY_kPLpj",
        "88A87H4TRqME",
        "rjTUJFI_TQ2m",
        "FGJEw-beZYD8",
        "3Bx7BsRDc647",
        "SoUbjbnLfMcr",
        "cBqwN1WhjSd8"
      ],
      "authorship_tag": "ABX9TyO/9rrrna84uSq9QA1LHpMy",
      "include_colab_link": true
    },
    "kernelspec": {
      "name": "python3",
      "display_name": "Python 3"
    },
    "language_info": {
      "name": "python"
    }
  },
  "cells": [
    {
      "cell_type": "markdown",
      "metadata": {
        "id": "view-in-github",
        "colab_type": "text"
      },
      "source": [
        "<a href=\"https://colab.research.google.com/github/JustAMirage/python_basics/blob/main/Copy_of_Rapid_Fire_Worksheet_(Functions_Edition).ipynb\" target=\"_parent\"><img src=\"https://colab.research.google.com/assets/colab-badge.svg\" alt=\"Open In Colab\"/></a>"
      ]
    },
    {
      "cell_type": "code",
      "metadata": {
        "id": "6NzWdHarpb42"
      },
      "source": [
        "# 1. What do I want? - Stating the problem. \n",
        "#\n",
        "#-----------------------------------\n",
        "# 2. What do I need? - Steps to take. Design your problem solution (Algorithm.) \n",
        "#\n",
        "#-----------------------------------\n",
        "# 3. What do I have? - This is data provided by either the problem itself or assumed area.\n",
        "#"
      ],
      "execution_count": null,
      "outputs": []
    },
    {
      "cell_type": "markdown",
      "metadata": {
        "id": "_x-c_bxZwlJ0"
      },
      "source": [
        "##Return the count of a given substring from a string."
      ]
    },
    {
      "cell_type": "code",
      "metadata": {
        "id": "z3ffhlTUpyAC"
      },
      "source": [
        "# 1. What do I want? - Stating the problem. \n",
        "#Get the stubstring. Count substring.\n",
        "#-----------------------------------\n",
        "# 2. What do I need? - Steps to take. Design your problem solution (Algorithm.) \n",
        "#Get string, get substring string[::]\n",
        "#-----------------------------------\n",
        "# 3. What do I have? - This is data provided by either the problem itself or assumed area.\n",
        "# I make the string or ask a user for string"
      ],
      "execution_count": 1,
      "outputs": []
    },
    {
      "cell_type": "code",
      "metadata": {
        "colab": {
          "base_uri": "https://localhost:8080/"
        },
        "id": "aW5iWJAFx6Xr",
        "outputId": "4c8e1ce9-8522-4027-a77b-77023468dc9b"
      },
      "source": [
        "#import lib\n",
        "import random\n",
        "def printSub(fullString):\n",
        "  #print the answer, slice string, and calc substring length\n",
        "  print(f\"Your string \\'{fullString}\\'s substring \\'{fullString[2:4]}\\' has a length of {len(fullString[2:4])}.\")\n",
        "#init string\n",
        "myString = input(\"Type something:\")\n",
        "printSub(myString)\n"
      ],
      "execution_count": 8,
      "outputs": [
        {
          "output_type": "stream",
          "name": "stdout",
          "text": [
            "Type something:owo\n",
            "Your string 'owo's substring 'o' has a length of 1.\n"
          ]
        }
      ]
    },
    {
      "cell_type": "markdown",
      "metadata": {
        "id": "-xE7jNJA0jhq"
      },
      "source": [
        "## Display numbers divisible by 5 from a list"
      ]
    },
    {
      "cell_type": "code",
      "metadata": {
        "id": "iMvBnoWz5KDE"
      },
      "source": [
        "# 1. What do I want? - Stating the problem. \n",
        "# Calculate if numbers are divisble by 5 or not\n",
        "#-----------------------------------\n",
        "# 2. What do I need? - Steps to take. Design your problem solution (Algorithm.) \n",
        "#  random lib, make list of numbers, divide by 5 and check for remainder = 0, make new list, print numbers\n",
        "#-----------------------------------\n",
        "# 3. What do I have? - This is data provided by either the problem itself or assumed area.\n",
        "# A list of numbers"
      ],
      "execution_count": null,
      "outputs": []
    },
    {
      "cell_type": "code",
      "metadata": {
        "colab": {
          "base_uri": "https://localhost:8080/"
        },
        "id": "uYeeQCp85zKb",
        "outputId": "6a233032-4ba3-4391-cd42-345c3379d4c1"
      },
      "source": [
        "#import\n",
        "import random\n",
        "#create a blank list\n",
        "listOfnumbers = []\n",
        "#make another blank list\n",
        "divByfive = []\n",
        "#create a list of numbers\n",
        "for i in range(0,20):\n",
        "  listOfnumbers.append(random.randint(0,10))\n",
        "#check if the numbers can be div by the number\n",
        "def checkFordiv(numList, divisor):\n",
        "  for i in numList:\n",
        "    if i % divisor == 0:\n",
        "      #add to list\n",
        "      divByfive.append(i)\n",
        "  #print list\n",
        "  print(divByfive)\n",
        "checkDivide = int(input(\"Display numbers from randomly generated list divisible by:\"))\n",
        "checkFordiv(listOfnumbers, checkDivide)"
      ],
      "execution_count": 10,
      "outputs": [
        {
          "output_type": "stream",
          "name": "stdout",
          "text": [
            "Display numbers from randomly generated list divisible by:5\n",
            "[0, 10, 5]\n"
          ]
        }
      ]
    },
    {
      "cell_type": "markdown",
      "metadata": {
        "id": "ccvCpZXe-jOS"
      },
      "source": [
        "## Check if the first and last number of a list is the same"
      ]
    },
    {
      "cell_type": "code",
      "metadata": {
        "id": "8Fcz5GZCAxCj"
      },
      "source": [
        "# 1. What do I want? - Stating the problem. \n",
        "# Need to know if last and first numbers are the same\n",
        "#-----------------------------------\n",
        "# 2. What do I need? - Steps to take. Design your problem solution (Algorithm.) \n",
        "# Make list, check last and first number, check numbers, print\n",
        "#-----------------------------------\n",
        "# 3. What do I have? - This is data provided by either the problem itself or assumed area.\n",
        "# Need list of numbers"
      ],
      "execution_count": null,
      "outputs": []
    },
    {
      "cell_type": "code",
      "metadata": {
        "colab": {
          "base_uri": "https://localhost:8080/"
        },
        "id": "keBIetWeAxA8",
        "outputId": "079b7d11-e81e-4aee-bd75-667e7a820081"
      },
      "source": [
        "#import random\n",
        "import random\n",
        "#empty list\n",
        "listOfnumbers = []\n",
        "#make list\n",
        "def firstAndlast(numberList2):\n",
        "  if numberList2[0] == numberList2[-1]:\n",
        "    print(f\"The first number, {numberList2[0]}, and last number, {numberList2[-1]}, are the same.\")\n",
        "  else:\n",
        "    print(f\"The first number, {numberList2[0]}, and last number, {numberList2[-1]}, are not the same.\")\n",
        "for i in range(0,20):\n",
        "  listOfnumbers.append(random.randint(0,3))\n",
        "  #check if end and start are the same and answer\n",
        "firstAndlast(listOfnumbers)"
      ],
      "execution_count": 12,
      "outputs": [
        {
          "output_type": "stream",
          "name": "stdout",
          "text": [
            "The first number, 3, and last number, 0, are not the same.\n"
          ]
        }
      ]
    },
    {
      "cell_type": "markdown",
      "metadata": {
        "id": "A6au6o5PAw1A"
      },
      "source": [
        "##Print multiple table form 1 to 10"
      ]
    },
    {
      "cell_type": "code",
      "metadata": {
        "id": "KT-B9hPdGZi8"
      },
      "source": [
        "# 1. What do I want? - Stating the problem. \n",
        "# Print a table\n",
        "#-----------------------------------\n",
        "# 2. What do I need? - Steps to take. Design your problem solution (Algorithm.) \n",
        "# Looping to print 10x10 values\n",
        "#-----------------------------------\n",
        "# 3. What do I have? - This is data provided by either the problem itself or assumed area.\n",
        "# Need the answers for multiplication table"
      ],
      "execution_count": null,
      "outputs": []
    },
    {
      "cell_type": "code",
      "metadata": {
        "colab": {
          "base_uri": "https://localhost:8080/"
        },
        "id": "ENzGi4qzG2kC",
        "outputId": "0f147796-01f7-4f17-dca1-0a987ee7181a"
      },
      "source": [
        "#loop to multiply every question and print it\n",
        "def multiplyTablegen():\n",
        "  for i in range(1,11):\n",
        "    print(f\"{i} {i*2} {i*3} {i*4} {i*5} {i*6} {i*6} {i*7} {i*8} {i*9} {i*10}\")\n",
        "multiplyTablegen()"
      ],
      "execution_count": 14,
      "outputs": [
        {
          "output_type": "stream",
          "name": "stdout",
          "text": [
            "1 2 3 4 5 6 6 7 8 9 10\n",
            "2 4 6 8 10 12 12 14 16 18 20\n",
            "3 6 9 12 15 18 18 21 24 27 30\n",
            "4 8 12 16 20 24 24 28 32 36 40\n",
            "5 10 15 20 25 30 30 35 40 45 50\n",
            "6 12 18 24 30 36 36 42 48 54 60\n",
            "7 14 21 28 35 42 42 49 56 63 70\n",
            "8 16 24 32 40 48 48 56 64 72 80\n",
            "9 18 27 36 45 54 54 63 72 81 90\n",
            "10 20 30 40 50 60 60 70 80 90 100\n"
          ]
        }
      ]
    },
    {
      "cell_type": "markdown",
      "metadata": {
        "id": "tNX_FXapKddq"
      },
      "source": [
        "## Display the current date and time"
      ]
    },
    {
      "cell_type": "code",
      "metadata": {
        "id": "UOrIc5uvKgFy"
      },
      "source": [
        "# 1. What do I want? - Stating the problem. \n",
        "# What the time is\n",
        "#-----------------------------------\n",
        "# 2. What do I need? - Steps to take. Design your problem solution (Algorithm.) \n",
        "# Import library, print time\n",
        "#-----------------------------------\n",
        "# 3. What do I have? - This is data provided by either the problem itself or assumed area.\n",
        "# Need the time"
      ],
      "execution_count": null,
      "outputs": []
    },
    {
      "cell_type": "code",
      "metadata": {
        "colab": {
          "base_uri": "https://localhost:8080/"
        },
        "id": "QQo43Bx1Kyf9",
        "outputId": "6b96c69e-dad3-449f-89ec-ee5505b1e044"
      },
      "source": [
        "#import lib\n",
        "import datetime\n",
        "def sayTime():\n",
        "  #assign variable \n",
        "  right_now = datetime.datetime.now()\n",
        "  #print\n",
        "  print(\"Current date and time: \")\n",
        "  #print time and day\n",
        "  print(right_now.strftime(\"%Y-%m-%d %H:%M:%S\"))\n",
        "sayTime()"
      ],
      "execution_count": 15,
      "outputs": [
        {
          "output_type": "stream",
          "name": "stdout",
          "text": [
            "Current date and time: \n",
            "2021-11-15 11:49:34\n"
          ]
        }
      ]
    },
    {
      "cell_type": "markdown",
      "metadata": {
        "id": "uYDItYE-LwOC"
      },
      "source": [
        "##Print first and last name in reverse order with a space betweent them"
      ]
    },
    {
      "cell_type": "code",
      "metadata": {
        "id": "6JSvsv4zOUro"
      },
      "source": [
        "# 1. What do I want? - Stating the problem. \n",
        "# Reverse placement of first and last name\n",
        "#-----------------------------------\n",
        "# 2. What do I need? - Steps to take. Design your problem solution (Algorithm.) \n",
        "# input first input last switch location in list\n",
        "#-----------------------------------\n",
        "# 3. What do I have? - This is data provided by either the problem itself or assumed area.\n",
        "# Need first/last name"
      ],
      "execution_count": null,
      "outputs": []
    },
    {
      "cell_type": "code",
      "metadata": {
        "colab": {
          "base_uri": "https://localhost:8080/"
        },
        "id": "RZKaA__3O2tk",
        "outputId": "aaa17788-71c3-4d82-a92e-9e059c32ecb5"
      },
      "source": [
        "#create funct\n",
        "def lastFirst(lastN, firstN):\n",
        "  #print name\n",
        "  print(f'Your name is: {lastN}, {firstN}.')\n",
        "#ask names\n",
        "firstName = input('First name:')\n",
        "lastName = input('Last name: ')\n",
        "#run funct\n",
        "lastFirst(lastName, firstName)"
      ],
      "execution_count": 17,
      "outputs": [
        {
          "output_type": "stream",
          "name": "stdout",
          "text": [
            "First name:Lia\n",
            "Last name: Elym\n",
            "Your name is: Elym, Lia.\n"
          ]
        }
      ]
    },
    {
      "cell_type": "markdown",
      "metadata": {
        "id": "Oe8YzY_kPLpj"
      },
      "source": [
        "## Display the first and last colors from a given list"
      ]
    },
    {
      "cell_type": "markdown",
      "metadata": {
        "id": "Nl3YCqr9cVbw"
      },
      "source": [
        ""
      ]
    },
    {
      "cell_type": "code",
      "metadata": {
        "id": "m3pIsTPbR0Nd"
      },
      "source": [
        "# 1. What do I want? - Stating the problem. \n",
        "# To find first and last colors\n",
        "#-----------------------------------\n",
        "# 2. What do I need? - Steps to take. Design your problem solution (Algorithm.) \n",
        "# Make list, index first last, print answers\n",
        "#-----------------------------------\n",
        "# 3. What do I have? - This is data provided by either the problem itself or assumed area.\n",
        "# List of colors"
      ],
      "execution_count": null,
      "outputs": []
    },
    {
      "cell_type": "code",
      "metadata": {
        "colab": {
          "base_uri": "https://localhost:8080/"
        },
        "id": "lPu7pMtTQO4z",
        "outputId": "c048cbeb-58ae-4835-d298-fd856400adb2"
      },
      "source": [
        "#make a list\n",
        "def firstColorlast(colorsLi):\n",
        "  #print first and last\n",
        "  print(f'The first color in the list is {colorsLi[0]} and the last color in the list is {colorsLi[-1]}.')\n",
        "colorList = ['red', 'blue', 'green']\n",
        "firstColorlast(colorList)\n"
      ],
      "execution_count": 18,
      "outputs": [
        {
          "output_type": "stream",
          "name": "stdout",
          "text": [
            "The first color in the list is red and the last color in the list is green.\n"
          ]
        }
      ]
    },
    {
      "cell_type": "code",
      "metadata": {
        "id": "W8fjZUSsTQIk"
      },
      "source": [
        ""
      ],
      "execution_count": null,
      "outputs": []
    },
    {
      "cell_type": "markdown",
      "metadata": {
        "id": "88A87H4TRqME"
      },
      "source": [
        "## Input an integer (h) and computes the value of n+nn+nnn"
      ]
    },
    {
      "cell_type": "code",
      "metadata": {
        "id": "xb4cWq-4TQ6e"
      },
      "source": [
        "# 1. What do I want? - Stating the problem. \n",
        "# Compute the formula, print it \n",
        "#-----------------------------------\n",
        "# 2. What do I need? - Steps to take. Design your problem solution (Algorithm.) \n",
        "# print an equation\n",
        "#-----------------------------------\n",
        "# 3. What do I have? - This is data provided by either the problem itself or assumed area.\n",
        "# a number, multipy it"
      ],
      "execution_count": null,
      "outputs": []
    },
    {
      "cell_type": "code",
      "metadata": {
        "colab": {
          "base_uri": "https://localhost:8080/"
        },
        "id": "b0USsXAwTQ4i",
        "outputId": "00338b72-a97d-4247-cbc1-c2f0930534d0"
      },
      "source": [
        "#define funct\n",
        "def oddFormula(gimmen):\n",
        "  #print the number after calculating the number, n, in n+n*n+n*n\n",
        "  print(f\"Given your number, {gimmen} = n when put into the formula \\'n + n^2 + n^3\\' is {gimmen+gimmen*gimmen+gimmen*gimmen*gimmen}\")\n",
        "#Get a number from user\n",
        "n = int(input('Give a number:'))\n",
        "#run funct\n",
        "oddFormula(n)"
      ],
      "execution_count": 20,
      "outputs": [
        {
          "output_type": "stream",
          "name": "stdout",
          "text": [
            "Give a number:2\n",
            "Given your number, 2 = n when put into the formula 'n + n^2 + n^3' is 14\n"
          ]
        }
      ]
    },
    {
      "cell_type": "markdown",
      "metadata": {
        "id": "rjTUJFI_TQ2m"
      },
      "source": [
        "## Write a Python script to print the calendar of a given month and year."
      ]
    },
    {
      "cell_type": "code",
      "metadata": {
        "id": "af3B8BWiY_6l"
      },
      "source": [
        "# 1. What do I want? - Stating the problem. \n",
        "# To make a calandar of a year and month\n",
        "#-----------------------------------\n",
        "# 2. What do I need? - Steps to take. Design your problem solution (Algorithm.) \n",
        "# Something to create a calandar, get year and month from user\n",
        "#-----------------------------------\n",
        "# 3. What do I have? - This is data provided by either the problem itself or assumed area.\n",
        "# Year, month."
      ],
      "execution_count": null,
      "outputs": []
    },
    {
      "cell_type": "code",
      "metadata": {
        "colab": {
          "base_uri": "https://localhost:8080/"
        },
        "id": "Dd0BIwlhYrNr",
        "outputId": "cd787dad-63d1-4245-8e04-5a9e4ad08bb5"
      },
      "source": [
        "#import lib\n",
        "import calendar\n",
        "#define function\n",
        "def calandarprint(yr, mo):\n",
        "  #make a calandar using the variables\n",
        "  print(calendar.month(yr, mo))\n",
        "#Get the year\n",
        "y = int(input(\"Input the year: \"))\n",
        "#get the month\n",
        "m = int(input(\"Input the month as a number: \"))\n",
        "calandarprint(y, m)\n",
        "# https://www.w3resource.com/python-exercises/python-basic-exercise-12.php"
      ],
      "execution_count": 21,
      "outputs": [
        {
          "output_type": "stream",
          "name": "stdout",
          "text": [
            "Input the year: 2021\n",
            "Input the month as a number: 2\n",
            "   February 2021\n",
            "Mo Tu We Th Fr Sa Su\n",
            " 1  2  3  4  5  6  7\n",
            " 8  9 10 11 12 13 14\n",
            "15 16 17 18 19 20 21\n",
            "22 23 24 25 26 27 28\n",
            "\n"
          ]
        }
      ]
    },
    {
      "cell_type": "markdown",
      "metadata": {
        "id": "FGJEw-beZYD8"
      },
      "source": [
        "## Python Script to get the volume of a sphere  with any radius."
      ]
    },
    {
      "cell_type": "code",
      "metadata": {
        "id": "E9sRzO_XbuPj"
      },
      "source": [
        "# 1. What do I want? - Stating the problem. \n",
        "# Calculating the volume of a sphere\n",
        "#-----------------------------------\n",
        "# 2. What do I need? - Steps to take. Design your problem solution (Algorithm.) \n",
        "# Get a number, and use the formula, print\n",
        "#-----------------------------------\n",
        "# 3. What do I have? - This is data provided by either the problem itself or assumed area.\n",
        "# The formula of sphere volume with a radius, need a radius"
      ],
      "execution_count": null,
      "outputs": []
    },
    {
      "cell_type": "code",
      "metadata": {
        "colab": {
          "base_uri": "https://localhost:8080/"
        },
        "id": "R1ajxW3Cb8Pz",
        "outputId": "2c6f51f5-25df-44bf-9f63-fb158d00b51c"
      },
      "source": [
        "#import lib\n",
        "import math\n",
        "#define funct\n",
        "def sphereVol(radi):\n",
        "  #Get the volume and print it\n",
        "  print(f\"The volume is {4/3 * math.pi * radi ** 3}.\")\n",
        "#ask user for radius\n",
        "r = int(input(\"State the radius of your sphere:\"))\n",
        "sphereVol(r)"
      ],
      "execution_count": 22,
      "outputs": [
        {
          "output_type": "stream",
          "name": "stdout",
          "text": [
            "State the radius of your sphere:1\n",
            "The volume is 4.1887902047863905.\n"
          ]
        }
      ]
    },
    {
      "cell_type": "markdown",
      "metadata": {
        "id": "3Bx7BsRDc647"
      },
      "source": [
        "## Write a Python script to find whether a given number (accept from the user) is even or odd"
      ]
    },
    {
      "cell_type": "code",
      "metadata": {
        "id": "RO5C_6TkeYXC"
      },
      "source": [
        "# 1. What do I want? - Stating the problem. \n",
        "# Figure out if a number is even or odd\n",
        "#-----------------------------------\n",
        "# 2. What do I need? - Steps to take. Design your problem solution (Algorithm.) \n",
        "# Ask input of number, check if number is even using mod == 0\n",
        "#-----------------------------------\n",
        "# 3. What do I have? - This is data provided by either the problem itself or assumed area.\n",
        "# A number given by user"
      ],
      "execution_count": null,
      "outputs": []
    },
    {
      "cell_type": "code",
      "metadata": {
        "colab": {
          "base_uri": "https://localhost:8080/"
        },
        "id": "RZJYUqTjejTs",
        "outputId": "ae0d33a1-bd0c-408a-923e-c8e77b2744d9"
      },
      "source": [
        "#define funct\n",
        "def evenOdd(numbsss):\n",
        "  #check if its even or odd then state it\n",
        "  if numbsss % 2 == 0:\n",
        "    print(f\"Your number, {numbsss}, is even.\")\n",
        "  else:\n",
        "    print(f\"Your number, {numbsss}, is odd.\")\n",
        "#ask for number\n",
        "n = int(input('State a number: '))\n",
        "evenOdd(n)\n"
      ],
      "execution_count": 23,
      "outputs": [
        {
          "output_type": "stream",
          "name": "stdout",
          "text": [
            "State a number: 2\n",
            "Your number, 2, is even.\n"
          ]
        }
      ]
    },
    {
      "cell_type": "markdown",
      "metadata": {
        "id": "SoUbjbnLfMcr"
      },
      "source": [
        "## Write a Python program to count the number seven in a given list"
      ]
    },
    {
      "cell_type": "code",
      "metadata": {
        "id": "uznsbiyZizth"
      },
      "source": [
        "# 1. What do I want? - Stating the problem. \n",
        "# Count how many sevens are in a list\n",
        "#-----------------------------------\n",
        "# 2. What do I need? - Steps to take. Design your problem solution (Algorithm.) \n",
        "# A list, something to count sevens, state how many\n",
        "#-----------------------------------\n",
        "# 3. What do I have? - This is data provided by either the problem itself or assumed area.\n",
        "# A list with numbers"
      ],
      "execution_count": null,
      "outputs": []
    },
    {
      "cell_type": "code",
      "metadata": {
        "colab": {
          "base_uri": "https://localhost:8080/"
        },
        "id": "wZkQdvGZi7sM",
        "outputId": "d291047e-c50b-4905-b22c-d0832dcc75e4"
      },
      "source": [
        "#import lib\n",
        "import random\n",
        "#define function\n",
        "def printSeven(numberList3):\n",
        "  #Print how many sevens are in the list\n",
        "  print(f'There are {numberList3.count(7)} instances of seven in the randomized list of {len(numberList3)} numbers.')\n",
        "#initialize list\n",
        "numberList = []\n",
        "#Make list of random numbers\n",
        "for i in range(0, 20):\n",
        "  numberList.append(random.randint(0,10))\n",
        "printSeven(numberList)"
      ],
      "execution_count": 24,
      "outputs": [
        {
          "output_type": "stream",
          "name": "stdout",
          "text": [
            "There are 2 instances of seven in the randomized list of 20 numbers.\n"
          ]
        }
      ]
    },
    {
      "cell_type": "markdown",
      "metadata": {
        "id": "cBqwN1WhjSd8"
      },
      "source": [
        "## A script that will accept base and height of a triange and compute the area"
      ]
    },
    {
      "cell_type": "code",
      "metadata": {
        "id": "54yDPpO-nQCB"
      },
      "source": [
        "# 1. What do I want? - Stating the problem. \n",
        "# Calc the area of a triangle\n",
        "#-----------------------------------\n",
        "# 2. What do I need? - Steps to take. Design your problem solution (Algorithm.) \n",
        "# get input from user for base and height, print the area\n",
        "#-----------------------------------\n",
        "# 3. What do I have? - This is data provided by either the problem itself or assumed area.\n",
        "# base, height, formula for triangle area"
      ],
      "execution_count": null,
      "outputs": []
    },
    {
      "cell_type": "code",
      "metadata": {
        "colab": {
          "base_uri": "https://localhost:8080/"
        },
        "id": "h06cIW41nYGs",
        "outputId": "f178d415-a9f5-4ec8-eb72-b7ca5e36a827"
      },
      "source": [
        "#define function\n",
        "def triAreacalc(base, height):\n",
        "  #print and calc area\n",
        "  print(f'With a base of {base} and a height of {height}, your triangle would have an area of {base * height * 0.5}.')\n",
        "#get base\n",
        "b = float(input(\"Triangle base: \"))\n",
        "#get height\n",
        "h = float(input('Triangle height: '))\n",
        "triAreacalc(b, h)"
      ],
      "execution_count": 25,
      "outputs": [
        {
          "output_type": "stream",
          "name": "stdout",
          "text": [
            "Triangle base: 2\n",
            "Triangle height: 3\n",
            "With a base of 2.0 and a height of 3.0, your triangle would have an area of 3.0.\n"
          ]
        }
      ]
    },
    {
      "cell_type": "markdown",
      "metadata": {
        "id": "GeCXNesPnqX8"
      },
      "source": [
        "##A script to sum three given integers, but if two values are equal, sum is zero."
      ]
    },
    {
      "cell_type": "code",
      "metadata": {
        "colab": {
          "base_uri": "https://localhost:8080/"
        },
        "id": "YEqlmsBvq1cZ",
        "outputId": "bb79e95f-927e-41f4-8c48-8dcb68c321d5"
      },
      "source": [
        "def threetotal(a, b, c):\n",
        "  if a == b or a == c or b == c:\n",
        "    print('The sum is (not) 0. Probably.')\n",
        "  else:\n",
        "    print(f'The sum is {a + b + c}.')\n",
        "one = int(input('State one number: '))\n",
        "two = int(input('State a second number: '))\n",
        "three = int(input('State a third number: '))\n",
        "\n",
        "threetotal(one, two, three)"
      ],
      "execution_count": null,
      "outputs": [
        {
          "output_type": "stream",
          "name": "stdout",
          "text": [
            "State one number: 0\n",
            "State a second number: 2\n",
            "State a third number: 2\n",
            "The sum is (not) 0. Probably.\n"
          ]
        }
      ]
    },
    {
      "cell_type": "markdown",
      "metadata": {
        "id": "7vc9MbfZsDfL"
      },
      "source": [
        "##A script to solve (x+y) * (x+y)"
      ]
    },
    {
      "cell_type": "code",
      "metadata": {
        "id": "X1lKDxtnuBXI"
      },
      "source": [
        "# 1. What do I want? - Stating the problem. \n",
        "# Solve the equation with given inputs.\n",
        "#-----------------------------------\n",
        "# 2. What do I need? - Steps to take. Design your problem solution (Algorithm.) \n",
        "# Ask for x and y, solve and print\n",
        "#-----------------------------------\n",
        "# 3. What do I have? - This is data provided by either the problem itself or assumed area.\n",
        "# y, x, formula?"
      ],
      "execution_count": null,
      "outputs": []
    },
    {
      "cell_type": "code",
      "metadata": {
        "colab": {
          "base_uri": "https://localhost:8080/"
        },
        "id": "tZTArtCLuVRs",
        "outputId": "9fc91dd4-125a-4343-ec5b-54f322456acf"
      },
      "source": [
        "#define function\n",
        "def equat(a,b):\n",
        "  #print and calculate\n",
        "  print(f'The answer is {(a+b) ** 2}.')\n",
        "#get variables\n",
        "x = int(input('State a number: '))\n",
        "y = int(input('State a number: '))\n",
        "#run function\n",
        "equat(x,y)"
      ],
      "execution_count": null,
      "outputs": [
        {
          "output_type": "stream",
          "name": "stdout",
          "text": [
            "State a number: 10\n",
            "State a number: 10\n",
            "The answer is 400.\n"
          ]
        }
      ]
    },
    {
      "cell_type": "markdown",
      "metadata": {
        "id": "O_PZXv0MvDIU"
      },
      "source": [
        "## A script to convert the distance (in feet) to inches, yards, and miles."
      ]
    },
    {
      "cell_type": "code",
      "metadata": {
        "id": "KfQFJtjdwUcx"
      },
      "source": [
        "# 1. What do I want? - Stating the problem. \n",
        "# To convert feet to different types of length units.\n",
        "#-----------------------------------\n",
        "# 2. What do I need? - Steps to take. Design your problem solution (Algorithm.) \n",
        "# Ask for input of feet, print and calculate the other unit conversions\n",
        "#-----------------------------------\n",
        "# 3. What do I have? - This is data provided by either the problem itself or assumed area.\n",
        "# A number (feet), need inch, yards, miles"
      ],
      "execution_count": null,
      "outputs": []
    },
    {
      "cell_type": "code",
      "metadata": {
        "colab": {
          "base_uri": "https://localhost:8080/"
        },
        "id": "cd0IG8sXwj47",
        "outputId": "97549e0f-d8a4-4232-f5ef-e2332476005a"
      },
      "source": [
        "#define function\n",
        "def conv(ft):\n",
        "  #print and calculate the conversions\n",
        "  print(f\"{ft} feet is the same as {ft * 12} inches, {ft / 3} yards, and {ft / 5280} miles.\")\n",
        "#get the distance\n",
        "distance = int(input('Distance in feet: '))\n",
        "#run function\n",
        "conv(distance)"
      ],
      "execution_count": null,
      "outputs": [
        {
          "output_type": "stream",
          "name": "stdout",
          "text": [
            "Distance in feet: 12\n",
            "12 feet is the same as 144 inches, 4.0 yards, and 0.0022727272727272726 miles.\n"
          ]
        }
      ]
    },
    {
      "cell_type": "markdown",
      "metadata": {
        "id": "SZOL9C1NxSpF"
      },
      "source": [
        "##A script to calculate the hypotenuse of a right angled triangle"
      ]
    },
    {
      "cell_type": "code",
      "metadata": {
        "id": "2XKW4hnEzOU2"
      },
      "source": [
        "# 1. What do I want? - Stating the problem. \n",
        "# The hypotenuse of a right triangle\n",
        "#-----------------------------------\n",
        "# 2. What do I need? - Steps to take. Design your problem solution (Algorithm.) \n",
        "# Ask for leg lengths, calculate and print\n",
        "#-----------------------------------\n",
        "# 3. What do I have? - This is data provided by either the problem itself or assumed area.\n",
        "# Formula, Hyp, need legs"
      ],
      "execution_count": null,
      "outputs": []
    },
    {
      "cell_type": "code",
      "metadata": {
        "colab": {
          "base_uri": "https://localhost:8080/"
        },
        "id": "Qc34l1WzzPL2",
        "outputId": "0526fa72-557c-4126-e212-619ec0c29e14"
      },
      "source": [
        "#import library\n",
        "import math\n",
        "#define function\n",
        "def hypot(a,b):\n",
        "  #calculate the hypotenuse value\n",
        "  c = math.sqrt(a**2 + b**2)\n",
        "  #print the calculation\n",
        "  print(f'The hypotenuse is {c}')\n",
        "#get the leg lengths\n",
        "legA = float(input('State the right triangle\\'s first leg: '))\n",
        "legB = float(input('State the right triangle\\'s second leg: '))\n",
        "#run the function\n",
        "hypot(legA, legB)"
      ],
      "execution_count": null,
      "outputs": [
        {
          "output_type": "stream",
          "name": "stdout",
          "text": [
            "State the right triangle's first leg: 5\n",
            "State the right triangle's second leg: 5\n",
            "The hypotenuse is 7.0710678118654755\n"
          ]
        }
      ]
    },
    {
      "cell_type": "code",
      "metadata": {
        "id": "lOBPCUUSz73-"
      },
      "source": [
        ""
      ],
      "execution_count": null,
      "outputs": []
    }
  ]
}
{
  "nbformat": 4,
  "nbformat_minor": 0,
  "metadata": {
    "colab": {
      "name": "basic.ipynb",
      "provenance": [],
      "collapsed_sections": [],
      "authorship_tag": "ABX9TyNTDJB4zaSPxBzTVT/KONr/",
      "include_colab_link": true
    },
    "kernelspec": {
      "name": "python3",
      "display_name": "Python 3"
    },
    "language_info": {
      "name": "python"
    }
  },
  "cells": [
    {
      "cell_type": "markdown",
      "metadata": {
        "id": "view-in-github",
        "colab_type": "text"
      },
      "source": [
        "<a href=\"https://colab.research.google.com/github/JustAMirage/python_basics/blob/main/basic.ipynb\" target=\"_parent\"><img src=\"https://colab.research.google.com/assets/colab-badge.svg\" alt=\"Open In Colab\"/></a>"
      ]
    },
    {
      "cell_type": "code",
      "metadata": {
        "colab": {
          "base_uri": "https://localhost:8080/"
        },
        "id": "u4t8TfC1bOhq",
        "outputId": "6ed21398-67b0-4825-9058-5cd7fedd7fba"
      },
      "source": [
        "print('Hello There')"
      ],
      "execution_count": null,
      "outputs": [
        {
          "output_type": "stream",
          "name": "stdout",
          "text": [
            "Hello There\n"
          ]
        }
      ]
    },
    {
      "cell_type": "code",
      "metadata": {
        "id": "yz__kX-BkXwP",
        "colab": {
          "base_uri": "https://localhost:8080/"
        },
        "outputId": "6e07b9aa-f692-40ce-a41f-76ac396f9049"
      },
      "source": [
        "print(12+3)"
      ],
      "execution_count": null,
      "outputs": [
        {
          "output_type": "stream",
          "name": "stdout",
          "text": [
            "15\n"
          ]
        }
      ]
    },
    {
      "cell_type": "code",
      "metadata": {
        "id": "ETx7uDx4k6Gg",
        "colab": {
          "base_uri": "https://localhost:8080/",
          "height": 35
        },
        "outputId": "c813e7d1-4f7b-4f0f-f514-17b14360b957"
      },
      "source": [
        "# comment\n",
        "\"\"\"\n",
        "woah\n",
        "look\n",
        "its a\n",
        "\n",
        "\n",
        "\n",
        "loooong comment\n",
        ":D\n",
        "\"\"\"\n",
        "\n",
        "\n",
        "#nu "
      ],
      "execution_count": 2,
      "outputs": [
        {
          "output_type": "execute_result",
          "data": {
            "application/vnd.google.colaboratory.intrinsic+json": {
              "type": "string"
            },
            "text/plain": [
              "'\\nwoah\\nlook\\nits a\\n\\n\\n\\nloooong comment\\n:D\\n'"
            ]
          },
          "metadata": {},
          "execution_count": 2
        }
      ]
    },
    {
      "cell_type": "code",
      "metadata": {
        "id": "PY64A4bjms9P"
      },
      "source": [
        "nu0 = 2\n",
        "nu1 = 4\n",
        "nu2 = 4\n",
        "nu3 = 4\n",
        "nu4 = 6\n",
        "nu5 = 12\n",
        "nu6 = 51\n",
        "nu7 = 4\n",
        "nu8  =52\n",
        "nu9 = 3"
      ],
      "execution_count": 3,
      "outputs": []
    },
    {
      "cell_type": "code",
      "metadata": {
        "id": "SxZA3ABwn66X",
        "colab": {
          "base_uri": "https://localhost:8080/"
        },
        "outputId": "dd08193b-c7a9-4f10-983b-75123f193606"
      },
      "source": [
        "from random import *\n",
        "testnum0 = uniform(0,5)\n",
        "print(testnum0)"
      ],
      "execution_count": 9,
      "outputs": [
        {
          "output_type": "stream",
          "name": "stdout",
          "text": [
            "3.7384156626233294\n"
          ]
        }
      ]
    },
    {
      "cell_type": "markdown",
      "metadata": {
        "id": "f8DL5RdJoi1_"
      },
      "source": [
        "# heading Strings\n",
        "*italicized text*## subheading\n",
        "### subheading 2\n",
        "#### subheading 3"
      ]
    },
    {
      "cell_type": "code",
      "metadata": {
        "id": "7LMBwoXHp8m7"
      },
      "source": [
        "CAR = 'Audi'"
      ],
      "execution_count": 10,
      "outputs": []
    },
    {
      "cell_type": "code",
      "metadata": {
        "id": "ZalS0vIiqAnX"
      },
      "source": [
        "car = 'Mercedies'"
      ],
      "execution_count": 11,
      "outputs": []
    },
    {
      "cell_type": "code",
      "metadata": {
        "id": "XGgVSCyeqS8P"
      },
      "source": [
        "greeting = 'Hello there'\n",
        "name = 'General Kenobi'"
      ],
      "execution_count": 13,
      "outputs": []
    },
    {
      "cell_type": "code",
      "metadata": {
        "colab": {
          "base_uri": "https://localhost:8080/"
        },
        "id": "Pthz9xRnqcCv",
        "outputId": "d559fd07-4946-4457-cc41-b9b4dee58ee7"
      },
      "source": [
        "print(greeting + ' ' + name)"
      ],
      "execution_count": 15,
      "outputs": [
        {
          "output_type": "stream",
          "name": "stdout",
          "text": [
            "Hello there General Kenobi\n"
          ]
        }
      ]
    },
    {
      "cell_type": "code",
      "metadata": {
        "colab": {
          "base_uri": "https://localhost:8080/"
        },
        "id": "yH7UReJ9qhfY",
        "outputId": "e45ff06d-85c1-4cbd-b9c3-b3e225aabeab"
      },
      "source": [
        "first = 'You have'\n",
        "days2live = randrange(20)\n",
        "years = 'years to live.'\n",
        "print(first + ' ' + str(days2live) + ' ' + years)"
      ],
      "execution_count": 20,
      "outputs": [
        {
          "output_type": "stream",
          "name": "stdout",
          "text": [
            "You have 15 years to live.\n"
          ]
        }
      ]
    },
    {
      "cell_type": "code",
      "metadata": {
        "colab": {
          "base_uri": "https://localhost:8080/"
        },
        "id": "Wh_bARylrOCw",
        "outputId": "1e9a5a3a-b8d2-4ec3-9891-c5124e76c501"
      },
      "source": [
        "import this"
      ],
      "execution_count": 21,
      "outputs": [
        {
          "output_type": "stream",
          "name": "stdout",
          "text": [
            "The Zen of Python, by Tim Peters\n",
            "\n",
            "Beautiful is better than ugly.\n",
            "Explicit is better than implicit.\n",
            "Simple is better than complex.\n",
            "Complex is better than complicated.\n",
            "Flat is better than nested.\n",
            "Sparse is better than dense.\n",
            "Readability counts.\n",
            "Special cases aren't special enough to break the rules.\n",
            "Although practicality beats purity.\n",
            "Errors should never pass silently.\n",
            "Unless explicitly silenced.\n",
            "In the face of ambiguity, refuse the temptation to guess.\n",
            "There should be one-- and preferably only one --obvious way to do it.\n",
            "Although that way may not be obvious at first unless you're Dutch.\n",
            "Now is better than never.\n",
            "Although never is often better than *right* now.\n",
            "If the implementation is hard to explain, it's a bad idea.\n",
            "If the implementation is easy to explain, it may be a good idea.\n",
            "Namespaces are one honking great idea -- let's do more of those!\n"
          ]
        }
      ]
    },
    {
      "cell_type": "code",
      "metadata": {
        "colab": {
          "base_uri": "https://localhost:8080/"
        },
        "id": "Qp1FeThJwxx4",
        "outputId": "bc195251-73ae-433c-eb0b-c8ea9692cc1b"
      },
      "source": [
        "name = input('What is your name: ')\n",
        "print(greeting + ' ' + name + '.')"
      ],
      "execution_count": 26,
      "outputs": [
        {
          "output_type": "stream",
          "name": "stdout",
          "text": [
            "What is your name: Lia\n",
            "Hello there Lia.\n"
          ]
        }
      ]
    },
    {
      "cell_type": "code",
      "metadata": {
        "colab": {
          "base_uri": "https://localhost:8080/",
          "height": 35
        },
        "id": "1TwQQrpv2o8I",
        "outputId": "c7998d1d-0bd9-414f-b323-21d08af635a0"
      },
      "source": [
        "greeting[0:3]"
      ],
      "execution_count": 35,
      "outputs": [
        {
          "output_type": "execute_result",
          "data": {
            "application/vnd.google.colaboratory.intrinsic+json": {
              "type": "string"
            },
            "text/plain": [
              "'Hel'"
            ]
          },
          "metadata": {},
          "execution_count": 35
        }
      ]
    },
    {
      "cell_type": "code",
      "metadata": {
        "colab": {
          "base_uri": "https://localhost:8080/",
          "height": 35
        },
        "id": "YAKvK6o13PVh",
        "outputId": "84a46f34-3dc1-4a9f-8db7-caa4efced2ab"
      },
      "source": [
        "greeting[-6:1]"
      ],
      "execution_count": 36,
      "outputs": [
        {
          "output_type": "execute_result",
          "data": {
            "application/vnd.google.colaboratory.intrinsic+json": {
              "type": "string"
            },
            "text/plain": [
              "''"
            ]
          },
          "metadata": {},
          "execution_count": 36
        }
      ]
    },
    {
      "cell_type": "code",
      "metadata": {
        "colab": {
          "base_uri": "https://localhost:8080/",
          "height": 163
        },
        "id": "jCSOdoiE35ao",
        "outputId": "b8dc6e26-aaee-4387-d241-8aa0e9027c04"
      },
      "source": [
        "greeting[4] = m"
      ],
      "execution_count": 37,
      "outputs": [
        {
          "output_type": "error",
          "ename": "NameError",
          "evalue": "ignored",
          "traceback": [
            "\u001b[0;31m---------------------------------------------------------------------------\u001b[0m",
            "\u001b[0;31mNameError\u001b[0m                                 Traceback (most recent call last)",
            "\u001b[0;32m<ipython-input-37-c45b6f5e182b>\u001b[0m in \u001b[0;36m<module>\u001b[0;34m()\u001b[0m\n\u001b[0;32m----> 1\u001b[0;31m \u001b[0mgreeting\u001b[0m\u001b[0;34m[\u001b[0m\u001b[0;36m4\u001b[0m\u001b[0;34m]\u001b[0m \u001b[0;34m=\u001b[0m \u001b[0mm\u001b[0m\u001b[0;34m\u001b[0m\u001b[0;34m\u001b[0m\u001b[0m\n\u001b[0m",
            "\u001b[0;31mNameError\u001b[0m: name 'm' is not defined"
          ]
        }
      ]
    },
    {
      "cell_type": "code",
      "metadata": {
        "id": "o8-p0ta037yw"
      },
      "source": [
        "fruits = ['apple', 'cherry', 'banana', 'mango', 'pineapple', 'grapefruit']"
      ],
      "execution_count": 38,
      "outputs": []
    },
    {
      "cell_type": "code",
      "metadata": {
        "colab": {
          "base_uri": "https://localhost:8080/",
          "height": 35
        },
        "id": "VharnhA74soR",
        "outputId": "a4a78a5f-263f-4d99-fc35-b4a611f121b9"
      },
      "source": [
        "fruits[1]"
      ],
      "execution_count": 39,
      "outputs": [
        {
          "output_type": "execute_result",
          "data": {
            "application/vnd.google.colaboratory.intrinsic+json": {
              "type": "string"
            },
            "text/plain": [
              "'cherry'"
            ]
          },
          "metadata": {},
          "execution_count": 39
        }
      ]
    },
    {
      "cell_type": "code",
      "metadata": {
        "colab": {
          "base_uri": "https://localhost:8080/"
        },
        "id": "cUAZgt9n4xIo",
        "outputId": "3344118d-11b3-45f6-dac8-dc6f368e25f6"
      },
      "source": [
        "fruits[3] = 5\n",
        "fruits"
      ],
      "execution_count": 40,
      "outputs": [
        {
          "output_type": "execute_result",
          "data": {
            "text/plain": [
              "['apple', 'cherry', 'banana', 5, 'pineapple', 'grapefruit']"
            ]
          },
          "metadata": {},
          "execution_count": 40
        }
      ]
    },
    {
      "cell_type": "code",
      "metadata": {
        "colab": {
          "base_uri": "https://localhost:8080/"
        },
        "id": "VMKCWsSk5zii",
        "outputId": "34c24fd2-4c94-4bd5-dae2-6c1ad54aefb5"
      },
      "source": [
        "fruits.append('fish')\n",
        "fruits"
      ],
      "execution_count": 42,
      "outputs": [
        {
          "output_type": "execute_result",
          "data": {
            "text/plain": [
              "['apple', 'cherry', 'banana', 5, 'pineapple', 'grapefruit', 'fish']"
            ]
          },
          "metadata": {},
          "execution_count": 42
        }
      ]
    },
    {
      "cell_type": "code",
      "metadata": {
        "colab": {
          "base_uri": "https://localhost:8080/"
        },
        "id": "WJkfeY2Y6Lfn",
        "outputId": "d3a9128a-80a5-4ceb-969b-e7a21e884a55"
      },
      "source": [
        "type(fruits)"
      ],
      "execution_count": 43,
      "outputs": [
        {
          "output_type": "execute_result",
          "data": {
            "text/plain": [
              "list"
            ]
          },
          "metadata": {},
          "execution_count": 43
        }
      ]
    },
    {
      "cell_type": "code",
      "metadata": {
        "id": "_PcBB_8D6YTp"
      },
      "source": [
        "fruits.append('cat')\n",
        "fruits.append('another cat')\n",
        "fruits.append('third cat')\n",
        "fruits.append('flying cat')\n",
        "fruits.append('hell cat')\n",
        "fruits"
      ],
      "execution_count": null,
      "outputs": []
    },
    {
      "cell_type": "code",
      "metadata": {
        "colab": {
          "base_uri": "https://localhost:8080/"
        },
        "id": "21Zjwnfs7hOB",
        "outputId": "9185a9b6-8298-41cc-a2ee-ca07e4582cd7"
      },
      "source": [
        "fruits"
      ],
      "execution_count": 61,
      "outputs": [
        {
          "output_type": "execute_result",
          "data": {
            "text/plain": [
              "['apple',\n",
              " 'cherry',\n",
              " 'banana',\n",
              " 5,\n",
              " 'pineapple',\n",
              " 'grapefruit',\n",
              " 'fish',\n",
              " 'cat',\n",
              " 'another cat',\n",
              " 'third cat',\n",
              " 'flying cat',\n",
              " 'hell cat']"
            ]
          },
          "metadata": {},
          "execution_count": 61
        }
      ]
    },
    {
      "cell_type": "code",
      "metadata": {
        "id": "c8iN-KTr73z3"
      },
      "source": [
        "name = 'The Pope'"
      ],
      "execution_count": 62,
      "outputs": []
    },
    {
      "cell_type": "code",
      "metadata": {
        "colab": {
          "base_uri": "https://localhost:8080/"
        },
        "id": "URrzLXeL_Bz3",
        "outputId": "5ec6ff1c-f2a1-46aa-ffcc-848b57fc4afd"
      },
      "source": [
        "print('I am ' + name)"
      ],
      "execution_count": 63,
      "outputs": [
        {
          "output_type": "stream",
          "name": "stdout",
          "text": [
            "I am The Pope\n"
          ]
        }
      ]
    },
    {
      "cell_type": "markdown",
      "metadata": {
        "id": "KWN0nPZSRHpk"
      },
      "source": [
        "###String Formatting"
      ]
    },
    {
      "cell_type": "code",
      "metadata": {
        "colab": {
          "base_uri": "https://localhost:8080/"
        },
        "id": "ORtsH0HBRJjo",
        "outputId": "c7554010-4d75-4980-e8dc-bbab20d580f5"
      },
      "source": [
        "print('The colors are {} {} {}'.format('Red', 'Green', 'Yellow'))"
      ],
      "execution_count": 65,
      "outputs": [
        {
          "output_type": "stream",
          "name": "stdout",
          "text": [
            "The colors are Red Green Yellow\n"
          ]
        }
      ]
    },
    {
      "cell_type": "code",
      "metadata": {
        "colab": {
          "base_uri": "https://localhost:8080/"
        },
        "id": "p0OS7Fa1Rl-o",
        "outputId": "63fd2f51-60ce-4d38-b2d7-03e98d31d344"
      },
      "source": [
        "print('The colors are {0} {1} {2}'.format('Red', 'Green', 'Yellow'))"
      ],
      "execution_count": 66,
      "outputs": [
        {
          "output_type": "stream",
          "name": "stdout",
          "text": [
            "The colors are Red Green Yellow\n"
          ]
        }
      ]
    },
    {
      "cell_type": "code",
      "metadata": {
        "colab": {
          "base_uri": "https://localhost:8080/"
        },
        "id": "ZualM_gjR_qB",
        "outputId": "4b0351f4-7699-4c4c-acc9-cc6b578d97e9"
      },
      "source": [
        "print('The colors are {1} {1} {1}'.format('Red', 'Green', 'Yellow'))"
      ],
      "execution_count": 67,
      "outputs": [
        {
          "output_type": "stream",
          "name": "stdout",
          "text": [
            "The colors are Green Green Green\n"
          ]
        }
      ]
    },
    {
      "cell_type": "code",
      "metadata": {
        "colab": {
          "base_uri": "https://localhost:8080/"
        },
        "id": "lO2LvbrhSBzw",
        "outputId": "5c9bb45c-318b-4a81-d61d-32e67d9b0443"
      },
      "source": [
        "print('The colors are {r} {g} {y}'.format(r='Red', g='Green', y='Yellow'))"
      ],
      "execution_count": 68,
      "outputs": [
        {
          "output_type": "stream",
          "name": "stdout",
          "text": [
            "The colors are Red Green Yellow\n"
          ]
        }
      ]
    },
    {
      "cell_type": "code",
      "metadata": {
        "colab": {
          "base_uri": "https://localhost:8080/"
        },
        "id": "cwlC-ob8SHZI",
        "outputId": "c3f6d3b4-f019-4101-a84b-4374713783b2"
      },
      "source": [
        "print('The colors are {r} {r} {r}'.format(r='Red', g='Green', y='Yellow'))"
      ],
      "execution_count": 69,
      "outputs": [
        {
          "output_type": "stream",
          "name": "stdout",
          "text": [
            "The colors are Red Red Red\n"
          ]
        }
      ]
    },
    {
      "cell_type": "code",
      "metadata": {
        "id": "EQYL1TS-SLkx"
      },
      "source": [
        "r='Red'\n",
        "g='Green'\n",
        "y='Yellow'"
      ],
      "execution_count": 70,
      "outputs": []
    },
    {
      "cell_type": "code",
      "metadata": {
        "colab": {
          "base_uri": "https://localhost:8080/"
        },
        "id": "I533NEQ9TqRB",
        "outputId": "00d53a38-a658-463b-cd73-63ab72e39553"
      },
      "source": [
        "print(f'The colprs are {r} {r} {r}')"
      ],
      "execution_count": 72,
      "outputs": [
        {
          "output_type": "stream",
          "name": "stdout",
          "text": [
            "The colprs are Red Red Red\n"
          ]
        }
      ]
    },
    {
      "cell_type": "code",
      "metadata": {
        "id": "vTHJ6YBxTybw"
      },
      "source": [
        ""
      ],
      "execution_count": null,
      "outputs": []
    }
  ]
}
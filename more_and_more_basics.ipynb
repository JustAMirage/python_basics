{
  "nbformat": 4,
  "nbformat_minor": 0,
  "metadata": {
    "colab": {
      "name": "more and more basics.ipynb",
      "provenance": [],
      "authorship_tag": "ABX9TyN6aYeBPkXC0vHKAtDLfuCT",
      "include_colab_link": true
    },
    "kernelspec": {
      "name": "python3",
      "display_name": "Python 3"
    },
    "language_info": {
      "name": "python"
    }
  },
  "cells": [
    {
      "cell_type": "markdown",
      "metadata": {
        "id": "view-in-github",
        "colab_type": "text"
      },
      "source": [
        "<a href=\"https://colab.research.google.com/github/JustAMirage/python_basics/blob/main/more_and_more_basics.ipynb\" target=\"_parent\"><img src=\"https://colab.research.google.com/assets/colab-badge.svg\" alt=\"Open In Colab\"/></a>"
      ]
    },
    {
      "cell_type": "markdown",
      "metadata": {
        "id": "7ukGxNxBivsc"
      },
      "source": [
        "# More basics"
      ]
    },
    {
      "cell_type": "markdown",
      "metadata": {
        "id": "J9lmxz_WjDAN"
      },
      "source": [
        "## Booleans"
      ]
    },
    {
      "cell_type": "code",
      "metadata": {
        "colab": {
          "base_uri": "https://localhost:8080/"
        },
        "id": "eC_HN5MkjC-R",
        "outputId": "08bdeeec-a02c-42f3-a3ee-be387c2da8c8"
      },
      "source": [
        "True"
      ],
      "execution_count": 1,
      "outputs": [
        {
          "output_type": "execute_result",
          "data": {
            "text/plain": [
              "True"
            ]
          },
          "metadata": {},
          "execution_count": 1
        }
      ]
    },
    {
      "cell_type": "code",
      "metadata": {
        "colab": {
          "base_uri": "https://localhost:8080/"
        },
        "id": "ZG-XNdQ4jC7r",
        "outputId": "4fe0a539-9e97-438f-bc9b-c4f5ef31a441"
      },
      "source": [
        "False"
      ],
      "execution_count": 2,
      "outputs": [
        {
          "output_type": "execute_result",
          "data": {
            "text/plain": [
              "False"
            ]
          },
          "metadata": {},
          "execution_count": 2
        }
      ]
    },
    {
      "cell_type": "code",
      "metadata": {
        "colab": {
          "base_uri": "https://localhost:8080/"
        },
        "id": "hbKhjMdAjC5W",
        "outputId": "dcd083fe-0231-41e7-d197-c5b90df6c75f"
      },
      "source": [
        "type(False)"
      ],
      "execution_count": 3,
      "outputs": [
        {
          "output_type": "execute_result",
          "data": {
            "text/plain": [
              "bool"
            ]
          },
          "metadata": {},
          "execution_count": 3
        }
      ]
    },
    {
      "cell_type": "markdown",
      "metadata": {
        "id": "E3mNavzFjC3E"
      },
      "source": [
        "## Operators"
      ]
    },
    {
      "cell_type": "markdown",
      "metadata": {
        "id": "xMrJdDapjC0z"
      },
      "source": [
        "### Comparison Operators"
      ]
    },
    {
      "cell_type": "code",
      "metadata": {
        "colab": {
          "base_uri": "https://localhost:8080/"
        },
        "id": "jXzwA0MTjCyj",
        "outputId": "45cf3a5a-beb7-4870-b864-2cb0e058638d"
      },
      "source": [
        "12 == 4\n",
        "#Equals operator"
      ],
      "execution_count": 6,
      "outputs": [
        {
          "output_type": "execute_result",
          "data": {
            "text/plain": [
              "False"
            ]
          },
          "metadata": {},
          "execution_count": 6
        }
      ]
    },
    {
      "cell_type": "code",
      "metadata": {
        "colab": {
          "base_uri": "https://localhost:8080/"
        },
        "id": "qMFffAoIjCu0",
        "outputId": "2b6d7398-dffe-4f6e-c633-69ec011725c0"
      },
      "source": [
        "'Hi there' == \"HI There\"\n",
        "#Equals operator"
      ],
      "execution_count": 26,
      "outputs": [
        {
          "output_type": "execute_result",
          "data": {
            "text/plain": [
              "False"
            ]
          },
          "metadata": {},
          "execution_count": 26
        }
      ]
    },
    {
      "cell_type": "code",
      "metadata": {
        "colab": {
          "base_uri": "https://localhost:8080/"
        },
        "id": "UsWf0X6ejCsW",
        "outputId": "2e483417-ded3-47b2-a66a-62e7d0c073e4"
      },
      "source": [
        "5 != 7\n",
        "#Not Equals Operator"
      ],
      "execution_count": 9,
      "outputs": [
        {
          "output_type": "execute_result",
          "data": {
            "text/plain": [
              "True"
            ]
          },
          "metadata": {},
          "execution_count": 9
        }
      ]
    },
    {
      "cell_type": "code",
      "metadata": {
        "colab": {
          "base_uri": "https://localhost:8080/"
        },
        "id": "9Pvy2xQ0jCqm",
        "outputId": "fdc2fc93-9580-4b35-8a84-39046937fa6b"
      },
      "source": [
        "7 > 9\n",
        "#more than op.\n",
        "7 < 9\n",
        "#less than opp"
      ],
      "execution_count": 10,
      "outputs": [
        {
          "output_type": "execute_result",
          "data": {
            "text/plain": [
              "True"
            ]
          },
          "metadata": {},
          "execution_count": 10
        }
      ]
    },
    {
      "cell_type": "code",
      "metadata": {
        "colab": {
          "base_uri": "https://localhost:8080/"
        },
        "id": "RSVpEy12jCoe",
        "outputId": "f9450cf6-511f-4212-9dd7-5f80361a4cdf"
      },
      "source": [
        "1 <= 4\n",
        "#more than or equal to op"
      ],
      "execution_count": 11,
      "outputs": [
        {
          "output_type": "execute_result",
          "data": {
            "text/plain": [
              "True"
            ]
          },
          "metadata": {},
          "execution_count": 11
        }
      ]
    },
    {
      "cell_type": "markdown",
      "metadata": {
        "id": "7RSsp4eCjCmj"
      },
      "source": [
        "### Logical Operators"
      ]
    },
    {
      "cell_type": "code",
      "metadata": {
        "colab": {
          "base_uri": "https://localhost:8080/"
        },
        "id": "9oIQpAg0jCj7",
        "outputId": "d7d6c961-ae71-455e-e706-ca7fb5bebea9"
      },
      "source": [
        "3 > 2 > 1\n",
        "#chain statement/compound statements"
      ],
      "execution_count": 27,
      "outputs": [
        {
          "output_type": "execute_result",
          "data": {
            "text/plain": [
              "True"
            ]
          },
          "metadata": {},
          "execution_count": 27
        }
      ]
    },
    {
      "cell_type": "code",
      "metadata": {
        "colab": {
          "base_uri": "https://localhost:8080/"
        },
        "id": "pUL6NMqbjCfK",
        "outputId": "8cbde412-54b9-4a2a-a724-7d7ac91a1a68"
      },
      "source": [
        "3 > 2 < 1 \n",
        "#chain statement/compound statements"
      ],
      "execution_count": 14,
      "outputs": [
        {
          "output_type": "execute_result",
          "data": {
            "text/plain": [
              "False"
            ]
          },
          "metadata": {},
          "execution_count": 14
        }
      ]
    },
    {
      "cell_type": "code",
      "metadata": {
        "colab": {
          "base_uri": "https://localhost:8080/"
        },
        "id": "TZxAp185jB4I",
        "outputId": "e8f847fb-14d1-446c-c429-01ad9251b9b0"
      },
      "source": [
        "'hello' < 'helix'\n",
        "#less than with strings (alphabetical)"
      ],
      "execution_count": 25,
      "outputs": [
        {
          "output_type": "execute_result",
          "data": {
            "text/plain": [
              "False"
            ]
          },
          "metadata": {},
          "execution_count": 25
        }
      ]
    },
    {
      "cell_type": "markdown",
      "metadata": {
        "id": "w2MJUJ-3jB1Y"
      },
      "source": [
        "## More on Lists \"Advanced Data Structures\""
      ]
    },
    {
      "cell_type": "code",
      "metadata": {
        "id": "aT7WoIgDjBys"
      },
      "source": [
        "myList = [2, 3, 5, 7, 8, 9]"
      ],
      "execution_count": 29,
      "outputs": []
    },
    {
      "cell_type": "code",
      "metadata": {
        "colab": {
          "base_uri": "https://localhost:8080/"
        },
        "id": "RnASJAJQjBwP",
        "outputId": "d5acd5a7-d64c-4148-e35e-fcf2bf664735"
      },
      "source": [
        "#append\n",
        "\n",
        "myList.append(78)\n",
        "myList"
      ],
      "execution_count": 34,
      "outputs": [
        {
          "output_type": "execute_result",
          "data": {
            "text/plain": [
              "[2, 3, 5, 7, 8, 9, 78, 78]"
            ]
          },
          "metadata": {},
          "execution_count": 34
        }
      ]
    },
    {
      "cell_type": "code",
      "metadata": {
        "colab": {
          "base_uri": "https://localhost:8080/"
        },
        "id": "zxrIvBr9jBuH",
        "outputId": "e515ac08-1f8e-49f5-96ad-89df3095d96c"
      },
      "source": [
        "#count\n",
        "myList.count(5)"
      ],
      "execution_count": 33,
      "outputs": [
        {
          "output_type": "execute_result",
          "data": {
            "text/plain": [
              "1"
            ]
          },
          "metadata": {},
          "execution_count": 33
        }
      ]
    },
    {
      "cell_type": "code",
      "metadata": {
        "id": "C7CPKlwivvJW"
      },
      "source": [
        "myList.append(7)"
      ],
      "execution_count": 35,
      "outputs": []
    },
    {
      "cell_type": "code",
      "metadata": {
        "colab": {
          "base_uri": "https://localhost:8080/"
        },
        "id": "rJHnEvYMvuUK",
        "outputId": "4575571b-3f36-44b5-caaa-c334977be0f8"
      },
      "source": [
        "myList"
      ],
      "execution_count": 36,
      "outputs": [
        {
          "output_type": "execute_result",
          "data": {
            "text/plain": [
              "[2, 3, 5, 7, 8, 9, 78, 78, 7]"
            ]
          },
          "metadata": {},
          "execution_count": 36
        }
      ]
    },
    {
      "cell_type": "code",
      "metadata": {
        "colab": {
          "base_uri": "https://localhost:8080/"
        },
        "id": "bdRM4Dr3vuQG",
        "outputId": "159d289e-eecf-470b-8553-7c8f3283113e"
      },
      "source": [
        "myList.count(7)"
      ],
      "execution_count": 37,
      "outputs": [
        {
          "output_type": "execute_result",
          "data": {
            "text/plain": [
              "2"
            ]
          },
          "metadata": {},
          "execution_count": 37
        }
      ]
    },
    {
      "cell_type": "code",
      "metadata": {
        "colab": {
          "base_uri": "https://localhost:8080/"
        },
        "id": "UJ7k2dDMvuLT",
        "outputId": "9010b82e-2c92-4d2a-d753-93c84b8bdb85"
      },
      "source": [
        "# extend\n",
        "myList.extend([4, 5])\n",
        "myList"
      ],
      "execution_count": 38,
      "outputs": [
        {
          "output_type": "execute_result",
          "data": {
            "text/plain": [
              "[2, 3, 5, 7, 8, 9, 78, 78, 7, 4, 5]"
            ]
          },
          "metadata": {},
          "execution_count": 38
        }
      ]
    },
    {
      "cell_type": "code",
      "metadata": {
        "colab": {
          "base_uri": "https://localhost:8080/"
        },
        "id": "RjVElUMCvuDO",
        "outputId": "6191b7ec-87f6-46bc-f830-ed3fb20acd25"
      },
      "source": [
        "myList[3]"
      ],
      "execution_count": 39,
      "outputs": [
        {
          "output_type": "execute_result",
          "data": {
            "text/plain": [
              "7"
            ]
          },
          "metadata": {},
          "execution_count": 39
        }
      ]
    },
    {
      "cell_type": "code",
      "metadata": {
        "colab": {
          "base_uri": "https://localhost:8080/"
        },
        "id": "m7vFEvStvt_4",
        "outputId": "f79adf2d-e909-4968-d4e1-d86b8f43ff03"
      },
      "source": [
        "myList.index(7)"
      ],
      "execution_count": 40,
      "outputs": [
        {
          "output_type": "execute_result",
          "data": {
            "text/plain": [
              "3"
            ]
          },
          "metadata": {},
          "execution_count": 40
        }
      ]
    },
    {
      "cell_type": "code",
      "metadata": {
        "id": "H1Ht4cO2vtwE"
      },
      "source": [
        "#pop\n",
        "myList.pop()"
      ],
      "execution_count": null,
      "outputs": []
    },
    {
      "cell_type": "code",
      "metadata": {
        "id": "z6dbUYVRvtsD"
      },
      "source": [
        "myList."
      ],
      "execution_count": null,
      "outputs": []
    },
    {
      "cell_type": "markdown",
      "metadata": {
        "id": "OALGuGYNvtnc"
      },
      "source": [
        "## More on Dictionaries"
      ]
    },
    {
      "cell_type": "code",
      "metadata": {
        "id": "sXqnDbzUvtga"
      },
      "source": [
        "myDict = {'kl':'v1', 'k2':'v2', 'k3':'k3'}"
      ],
      "execution_count": 41,
      "outputs": []
    },
    {
      "cell_type": "code",
      "metadata": {
        "colab": {
          "base_uri": "https://localhost:8080/"
        },
        "id": "lNc4oDBevtan",
        "outputId": "e9749373-0b0b-481f-ee28-6c36fb9b52de"
      },
      "source": [
        "myDict.keys()"
      ],
      "execution_count": 43,
      "outputs": [
        {
          "output_type": "execute_result",
          "data": {
            "text/plain": [
              "dict_keys(['kl', 'k2', 'k3'])"
            ]
          },
          "metadata": {},
          "execution_count": 43
        }
      ]
    },
    {
      "cell_type": "code",
      "metadata": {
        "colab": {
          "base_uri": "https://localhost:8080/"
        },
        "id": "tHl3W7RDvtUd",
        "outputId": "7e2f8d39-fa2f-4dcb-bdd0-c74b1b489d94"
      },
      "source": [
        "myDict.values()"
      ],
      "execution_count": 44,
      "outputs": [
        {
          "output_type": "execute_result",
          "data": {
            "text/plain": [
              "dict_values(['v1', 'v2', 'k3'])"
            ]
          },
          "metadata": {},
          "execution_count": 44
        }
      ]
    },
    {
      "cell_type": "code",
      "metadata": {
        "colab": {
          "base_uri": "https://localhost:8080/"
        },
        "id": "jc-gOidivtMj",
        "outputId": "702dd79c-f853-48f4-b088-349261cb9c59"
      },
      "source": [
        "myDict.items()"
      ],
      "execution_count": 45,
      "outputs": [
        {
          "output_type": "execute_result",
          "data": {
            "text/plain": [
              "dict_items([('kl', 'v1'), ('k2', 'v2'), ('k3', 'k3')])"
            ]
          },
          "metadata": {},
          "execution_count": 45
        }
      ]
    },
    {
      "cell_type": "code",
      "metadata": {
        "id": "XpyiGwURvs8Y"
      },
      "source": [
        ""
      ],
      "execution_count": 46,
      "outputs": []
    },
    {
      "cell_type": "code",
      "metadata": {
        "id": "wua1ZGh6vs4W"
      },
      "source": [
        ""
      ],
      "execution_count": null,
      "outputs": []
    },
    {
      "cell_type": "code",
      "metadata": {
        "id": "P_--AHovvs0H"
      },
      "source": [
        ""
      ],
      "execution_count": null,
      "outputs": []
    },
    {
      "cell_type": "code",
      "metadata": {
        "id": "fkRf8r4Kvsvw"
      },
      "source": [
        ""
      ],
      "execution_count": null,
      "outputs": []
    },
    {
      "cell_type": "code",
      "metadata": {
        "id": "EX-dyQDkkQfg"
      },
      "source": [
        ""
      ],
      "execution_count": 5,
      "outputs": []
    }
  ]
}
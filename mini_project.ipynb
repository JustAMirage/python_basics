{
  "nbformat": 4,
  "nbformat_minor": 0,
  "metadata": {
    "colab": {
      "name": "mini project.ipynb",
      "provenance": [],
      "collapsed_sections": [],
      "authorship_tag": "ABX9TyMifphcyoyAxWOTYDNX6JNP",
      "include_colab_link": true
    },
    "kernelspec": {
      "name": "python3",
      "display_name": "Python 3"
    },
    "language_info": {
      "name": "python"
    }
  },
  "cells": [
    {
      "cell_type": "markdown",
      "metadata": {
        "id": "view-in-github",
        "colab_type": "text"
      },
      "source": [
        "<a href=\"https://colab.research.google.com/github/JustAMirage/python_basics/blob/main/mini_project.ipynb\" target=\"_parent\"><img src=\"https://colab.research.google.com/assets/colab-badge.svg\" alt=\"Open In Colab\"/></a>"
      ]
    },
    {
      "cell_type": "code",
      "metadata": {
        "id": "OTXvrOlg30Yb"
      },
      "source": [
        "numb = int(input(\"What number do you want to convert:\"))\n",
        "choice = input(\"What do you want to convert it to? Oct, Hex, Binary, or all:\")\n",
        "choice.lower\n",
        "while choice != \"oct\" or \"hex\" or \"binary\" or \"all\":\n",
        "  if choice == \"oct\":\n",
        "    print(f'The number {numb} in Octal form is {oct(numb)}')\n",
        "    break\n",
        "  elif choice == \"hex\":\n",
        "    print(f'The number {numb} in Hexidecimal form is {hex(numb)}')\n",
        "    break\n",
        "  elif choice == \"binary\":\n",
        "    print(f'The number {numb} in Binary form is {bin(numb)}')\n",
        "    break\n",
        "  elif choice == \"all\":\n",
        "    print(f'The number {numb} in Octal form is {oct(numb)}')\n",
        "    print(f'The number {numb} in Hexadecmial form is {hex(numb)}')\n",
        "    print(f'The number {numb} in Binary form is {bin(numb)}')\n",
        "    break\n",
        "  else:\n",
        "    choice = input(\"What do you want to convert it to? Oct, Hex, Binary, or all:\")\n"
      ],
      "execution_count": null,
      "outputs": []
    },
    {
      "cell_type": "code",
      "metadata": {
        "id": "Vs7OsS_E7YKd"
      },
      "source": [
        ""
      ],
      "execution_count": null,
      "outputs": []
    }
  ]
}
{
  "nbformat": 4,
  "nbformat_minor": 0,
  "metadata": {
    "colab": {
      "name": "Collection Data Types.ipynb",
      "provenance": [],
      "collapsed_sections": [
        "QFXDQ7LMfSjI"
      ],
      "authorship_tag": "ABX9TyPJtQzrwd28WUdaaIxnHsEm",
      "include_colab_link": true
    },
    "kernelspec": {
      "name": "python3",
      "display_name": "Python 3"
    },
    "language_info": {
      "name": "python"
    }
  },
  "cells": [
    {
      "cell_type": "markdown",
      "metadata": {
        "id": "view-in-github",
        "colab_type": "text"
      },
      "source": [
        "<a href=\"https://colab.research.google.com/github/JustAMirage/python_basics/blob/main/Collection_Data_Types.ipynb\" target=\"_parent\"><img src=\"https://colab.research.google.com/assets/colab-badge.svg\" alt=\"Open In Colab\"/></a>"
      ]
    },
    {
      "cell_type": "markdown",
      "metadata": {
        "id": "QFXDQ7LMfSjI"
      },
      "source": [
        "#Collection Data Types"
      ]
    },
    {
      "cell_type": "code",
      "metadata": {
        "id": "7ojMoAtahh8Y"
      },
      "source": [
        ""
      ],
      "execution_count": null,
      "outputs": []
    },
    {
      "cell_type": "code",
      "metadata": {
        "id": "0bxpnpKbhh6Q"
      },
      "source": [
        ""
      ],
      "execution_count": null,
      "outputs": []
    },
    {
      "cell_type": "code",
      "metadata": {
        "id": "h-J3_OE9hh3-"
      },
      "source": [
        ""
      ],
      "execution_count": null,
      "outputs": []
    },
    {
      "cell_type": "code",
      "metadata": {
        "id": "EziU4cjphh0p"
      },
      "source": [
        ""
      ],
      "execution_count": null,
      "outputs": []
    },
    {
      "cell_type": "markdown",
      "metadata": {
        "id": "XTQZTGkrhV9R"
      },
      "source": [
        "#Lists"
      ]
    },
    {
      "cell_type": "code",
      "metadata": {
        "colab": {
          "base_uri": "https://localhost:8080/"
        },
        "id": "tNFLRJx7hhW7",
        "outputId": "f3de6174-2e94-432a-e137-0f6e18368fc7"
      },
      "source": [
        "myList = ['Hello', 100, 23.47]\n",
        "print(myList)"
      ],
      "execution_count": 1,
      "outputs": [
        {
          "output_type": "stream",
          "name": "stdout",
          "text": [
            "['Hello', 100, 23.47]\n"
          ]
        }
      ]
    },
    {
      "cell_type": "code",
      "metadata": {
        "colab": {
          "base_uri": "https://localhost:8080/"
        },
        "id": "BcIOzWBdhhT8",
        "outputId": "2650ee74-b368-4782-83fd-f134c65f461c"
      },
      "source": [
        "anotherList = ['one', 'two', 'three']\n",
        "anotherList"
      ],
      "execution_count": 3,
      "outputs": [
        {
          "output_type": "execute_result",
          "data": {
            "text/plain": [
              "['one', 'two', 'three']"
            ]
          },
          "metadata": {},
          "execution_count": 3
        }
      ]
    },
    {
      "cell_type": "code",
      "metadata": {
        "colab": {
          "base_uri": "https://localhost:8080/"
        },
        "id": "f0Om6fT0iCBw",
        "outputId": "93c269b8-723d-4d2f-f97a-31c1571bac50"
      },
      "source": [
        "newList = myList + anotherList\n",
        "newList"
      ],
      "execution_count": 6,
      "outputs": [
        {
          "output_type": "execute_result",
          "data": {
            "text/plain": [
              "['Hello', 100, 23.47, 'one', 'two', 'three']"
            ]
          },
          "metadata": {},
          "execution_count": 6
        }
      ]
    },
    {
      "cell_type": "code",
      "metadata": {
        "id": "5WjCrk6iieXU"
      },
      "source": [
        "emptyList = []\n",
        "emptyList"
      ],
      "execution_count": 7,
      "outputs": []
    },
    {
      "cell_type": "code",
      "metadata": {
        "colab": {
          "base_uri": "https://localhost:8080/"
        },
        "id": "lgdRljPxieVN",
        "outputId": "ffd1e384-87d5-430f-8d83-854d9af622e7"
      },
      "source": [
        "cars = ['Mercedes', 'Volvo', 'Jaguar', 'BMW', \"Audi\"]\n",
        "num_cars = len(cars)\n",
        "i = 0\n",
        "while i < num_cars:\n",
        "  print(cars[i])\n",
        "  i += 1"
      ],
      "execution_count": 13,
      "outputs": [
        {
          "output_type": "stream",
          "name": "stdout",
          "text": [
            "Mercedes\n",
            "Volvo\n",
            "Jaguar\n",
            "BMW\n",
            "Audi\n"
          ]
        }
      ]
    },
    {
      "cell_type": "code",
      "metadata": {
        "colab": {
          "base_uri": "https://localhost:8080/"
        },
        "id": "_hZfjhicieTn",
        "outputId": "db3a0bf9-f5e3-4003-8978-fb6fc0ae5596"
      },
      "source": [
        "len(cars)"
      ],
      "execution_count": 10,
      "outputs": [
        {
          "output_type": "execute_result",
          "data": {
            "text/plain": [
              "5"
            ]
          },
          "metadata": {},
          "execution_count": 10
        }
      ]
    },
    {
      "cell_type": "code",
      "metadata": {
        "colab": {
          "base_uri": "https://localhost:8080/"
        },
        "id": "_aD0yZDcieSC",
        "outputId": "d505fc9d-9871-4851-eb24-c555c7856981"
      },
      "source": [
        "name = 'General Kenobi'\n",
        "name\n",
        "len(name)"
      ],
      "execution_count": 11,
      "outputs": [
        {
          "output_type": "execute_result",
          "data": {
            "text/plain": [
              "14"
            ]
          },
          "metadata": {},
          "execution_count": 11
        }
      ]
    },
    {
      "cell_type": "markdown",
      "metadata": {
        "id": "HoZHDlgpiePw"
      },
      "source": [
        "#Editing Lists"
      ]
    },
    {
      "cell_type": "code",
      "metadata": {
        "colab": {
          "base_uri": "https://localhost:8080/"
        },
        "id": "DxpEgnIHieNH",
        "outputId": "76efdaa9-3aad-4e4c-ce51-bce87dae6da7"
      },
      "source": [
        "cars[0] = 'Telsa'\n",
        "cars"
      ],
      "execution_count": 14,
      "outputs": [
        {
          "output_type": "execute_result",
          "data": {
            "text/plain": [
              "['Telsa', 'Volvo', 'Jaguar', 'BMW', 'Audi']"
            ]
          },
          "metadata": {},
          "execution_count": 14
        }
      ]
    },
    {
      "cell_type": "code",
      "metadata": {
        "colab": {
          "base_uri": "https://localhost:8080/"
        },
        "id": "U_0TJfuloUrP",
        "outputId": "c4634ed6-ab2e-4d29-e5f0-0397e313f929"
      },
      "source": [
        "cars.append('Jeep')\n",
        "cars"
      ],
      "execution_count": 16,
      "outputs": [
        {
          "output_type": "execute_result",
          "data": {
            "text/plain": [
              "['Telsa', 'Volvo', 'Jaguar', 'BMW', 'Audi', 'Jeep', 'Jeep']"
            ]
          },
          "metadata": {},
          "execution_count": 16
        }
      ]
    },
    {
      "cell_type": "code",
      "metadata": {
        "colab": {
          "base_uri": "https://localhost:8080/"
        },
        "id": "sa9OBTtroUpe",
        "outputId": "b7f9a19a-be5f-4bb9-d04b-f3a8df0558d5"
      },
      "source": [
        "cars"
      ],
      "execution_count": 17,
      "outputs": [
        {
          "output_type": "execute_result",
          "data": {
            "text/plain": [
              "['Telsa', 'Volvo', 'Jaguar', 'BMW', 'Audi', 'Jeep', 'Jeep']"
            ]
          },
          "metadata": {},
          "execution_count": 17
        }
      ]
    },
    {
      "cell_type": "code",
      "metadata": {
        "colab": {
          "base_uri": "https://localhost:8080/"
        },
        "id": "2nkDvT4NoUnj",
        "outputId": "04d17289-d31a-41ac-f766-11396fb4837a"
      },
      "source": [
        "cars.pop()\n",
        "cars"
      ],
      "execution_count": 21,
      "outputs": [
        {
          "output_type": "execute_result",
          "data": {
            "text/plain": [
              "['Telsa', 'Volvo', 'Jaguar', 'BMW', 'Audi', 'Jeep']"
            ]
          },
          "metadata": {},
          "execution_count": 21
        }
      ]
    },
    {
      "cell_type": "code",
      "metadata": {
        "id": "nTr0AGUDoiT-"
      },
      "source": [
        "cars.remove('Jeep')"
      ],
      "execution_count": 22,
      "outputs": []
    },
    {
      "cell_type": "code",
      "metadata": {
        "colab": {
          "base_uri": "https://localhost:8080/"
        },
        "id": "YsuAKEU8oiP9",
        "outputId": "6293e7d6-1d56-4436-efa3-ea168b8ad1c9"
      },
      "source": [
        "cars"
      ],
      "execution_count": 23,
      "outputs": [
        {
          "output_type": "execute_result",
          "data": {
            "text/plain": [
              "['Telsa', 'Volvo', 'Jaguar', 'BMW', 'Audi']"
            ]
          },
          "metadata": {},
          "execution_count": 23
        }
      ]
    },
    {
      "cell_type": "code",
      "metadata": {
        "id": "Vrvqp-DhoiLX"
      },
      "source": [
        "even = [2,4,6,8]\n",
        "odd = [1,3,5,7,9]"
      ],
      "execution_count": 28,
      "outputs": []
    },
    {
      "cell_type": "code",
      "metadata": {
        "colab": {
          "base_uri": "https://localhost:8080/"
        },
        "id": "vwzdCNnHoiJe",
        "outputId": "f20e975a-2391-46dc-a7d5-87dd0bf4a793"
      },
      "source": [
        "numbers = odd + even\n",
        "numbers"
      ],
      "execution_count": 29,
      "outputs": [
        {
          "output_type": "execute_result",
          "data": {
            "text/plain": [
              "[1, 3, 5, 7, 9, 2, 4, 6, 8]"
            ]
          },
          "metadata": {},
          "execution_count": 29
        }
      ]
    },
    {
      "cell_type": "code",
      "metadata": {
        "colab": {
          "base_uri": "https://localhost:8080/"
        },
        "id": "R1VynUGxpO0_",
        "outputId": "28ae5fb6-fa24-4ca2-9b24-1dc7212259b7"
      },
      "source": [
        "len(numbers)"
      ],
      "execution_count": 30,
      "outputs": [
        {
          "output_type": "execute_result",
          "data": {
            "text/plain": [
              "9"
            ]
          },
          "metadata": {},
          "execution_count": 30
        }
      ]
    },
    {
      "cell_type": "code",
      "metadata": {
        "colab": {
          "base_uri": "https://localhost:8080/"
        },
        "id": "Vk0YljX7pOyj",
        "outputId": "e9673b72-041c-43be-80e2-e7fe465f5d01"
      },
      "source": [
        "sorted(numbers)"
      ],
      "execution_count": 31,
      "outputs": [
        {
          "output_type": "execute_result",
          "data": {
            "text/plain": [
              "[1, 2, 3, 4, 5, 6, 7, 8, 9]"
            ]
          },
          "metadata": {},
          "execution_count": 31
        }
      ]
    },
    {
      "cell_type": "code",
      "metadata": {
        "colab": {
          "base_uri": "https://localhost:8080/"
        },
        "id": "ySNxz3sphgwQ",
        "outputId": "4352632d-4967-4bb8-8326-fe6af35bc6f0"
      },
      "source": [
        "numbers"
      ],
      "execution_count": 32,
      "outputs": [
        {
          "output_type": "execute_result",
          "data": {
            "text/plain": [
              "[1, 3, 5, 7, 9, 2, 4, 6, 8]"
            ]
          },
          "metadata": {},
          "execution_count": 32
        }
      ]
    },
    {
      "cell_type": "code",
      "metadata": {
        "colab": {
          "base_uri": "https://localhost:8080/"
        },
        "id": "psrX4MPjhguV",
        "outputId": "606ac1ca-c8c3-40fd-bd61-cef058f2f7b7"
      },
      "source": [
        "max(numbers)"
      ],
      "execution_count": 33,
      "outputs": [
        {
          "output_type": "execute_result",
          "data": {
            "text/plain": [
              "9"
            ]
          },
          "metadata": {},
          "execution_count": 33
        }
      ]
    },
    {
      "cell_type": "code",
      "metadata": {
        "colab": {
          "base_uri": "https://localhost:8080/"
        },
        "id": "prkjgc2-qyom",
        "outputId": "cc62fb62-a7c6-44b8-d584-7c2169eec908"
      },
      "source": [
        "min(numbers)"
      ],
      "execution_count": 34,
      "outputs": [
        {
          "output_type": "execute_result",
          "data": {
            "text/plain": [
              "1"
            ]
          },
          "metadata": {},
          "execution_count": 34
        }
      ]
    },
    {
      "cell_type": "code",
      "metadata": {
        "colab": {
          "base_uri": "https://localhost:8080/"
        },
        "id": "g1rLDlHSqym1",
        "outputId": "beb032e7-9bbc-4986-8d60-597b3905194a"
      },
      "source": [
        "reversed(numbers)"
      ],
      "execution_count": 36,
      "outputs": [
        {
          "output_type": "execute_result",
          "data": {
            "text/plain": [
              "<list_reverseiterator at 0x7f4952f5b410>"
            ]
          },
          "metadata": {},
          "execution_count": 36
        }
      ]
    },
    {
      "cell_type": "markdown",
      "metadata": {
        "id": "uXxuPs_ghafq"
      },
      "source": [
        "#Dictionaries"
      ]
    },
    {
      "cell_type": "code",
      "metadata": {
        "colab": {
          "base_uri": "https://localhost:8080/"
        },
        "id": "JCLwzGo9qylQ",
        "outputId": "47fddf13-4e5b-49c5-a00e-3f3edf853c52"
      },
      "source": [
        "myDiet = {'key1':'value1','key2':'value2','key3':'value3'}\n",
        "myDiet"
      ],
      "execution_count": 38,
      "outputs": [
        {
          "output_type": "execute_result",
          "data": {
            "text/plain": [
              "{'key1': 'value1', 'key2': 'value2', 'key3': 'value3'}"
            ]
          },
          "metadata": {},
          "execution_count": 38
        }
      ]
    },
    {
      "cell_type": "code",
      "metadata": {
        "colab": {
          "base_uri": "https://localhost:8080/",
          "height": 35
        },
        "id": "2isUOLp4sBgz",
        "outputId": "1e8f90b4-992b-490a-f1fc-2a3fd9e58976"
      },
      "source": [
        "myDiet['key1'] = 'mangos'\n",
        "myDiet['key1']"
      ],
      "execution_count": 41,
      "outputs": [
        {
          "output_type": "execute_result",
          "data": {
            "application/vnd.google.colaboratory.intrinsic+json": {
              "type": "string"
            },
            "text/plain": [
              "'mangos'"
            ]
          },
          "metadata": {},
          "execution_count": 41
        }
      ]
    },
    {
      "cell_type": "code",
      "metadata": {
        "colab": {
          "base_uri": "https://localhost:8080/"
        },
        "id": "JTD-CRdIsBe1",
        "outputId": "20f4d3de-50d1-49f0-eed7-d9a7e7ec9e8c"
      },
      "source": [
        "myDiet"
      ],
      "execution_count": 42,
      "outputs": [
        {
          "output_type": "execute_result",
          "data": {
            "text/plain": [
              "{'key1': 'mangos', 'key2': 'value2', 'key3': 'value3'}"
            ]
          },
          "metadata": {},
          "execution_count": 42
        }
      ]
    },
    {
      "cell_type": "code",
      "metadata": {
        "colab": {
          "base_uri": "https://localhost:8080/"
        },
        "id": "T_GlJpbpsBdX",
        "outputId": "6bc4ab8b-f9fa-40c3-e1eb-95418e60f1eb"
      },
      "source": [
        "FruitsPrices = {'key0':'value0','key1':'value1','key2':'value2','key3':'value3','key4':'value4','key5':'value5','key6':'value6','key7':'value7','key8':'value8','key9':'value9'}\n",
        "FruitsPrices"
      ],
      "execution_count": 44,
      "outputs": [
        {
          "output_type": "execute_result",
          "data": {
            "text/plain": [
              "{'key0': 'value0',\n",
              " 'key1': 'value1',\n",
              " 'key2': 'value2',\n",
              " 'key3': 'value3',\n",
              " 'key4': 'value4',\n",
              " 'key5': 'value5',\n",
              " 'key6': 'value6',\n",
              " 'key7': 'value7',\n",
              " 'key8': 'value8',\n",
              " 'key9': 'value9'}"
            ]
          },
          "metadata": {},
          "execution_count": 44
        }
      ]
    },
    {
      "cell_type": "code",
      "metadata": {
        "colab": {
          "base_uri": "https://localhost:8080/"
        },
        "id": "ZxlV0C1IsBbq",
        "outputId": "e1002415-e169-4d2a-d05d-751e7ed6f6f6"
      },
      "source": [
        "FruitsPrices['key0'] = 'Mangos'\n",
        "FruitsPrices['key1'] = 'Pineapple'\n",
        "FruitsPrices['key2'] = 'Oranges'\n",
        "FruitsPrices['key3'] = 'Apples'\n",
        "FruitsPrices['key4'] = 'Cherries'\n",
        "FruitsPrices['key5'] = 'Blueberries'\n",
        "FruitsPrices['key6'] = 'Peaches'\n",
        "FruitsPrices['key7'] = 'Papayas'\n",
        "FruitsPrices['key8'] = 'Dragonfruits'\n",
        "FruitsPrices['key9'] = 'Watermelon'\n",
        "FruitsPrices"
      ],
      "execution_count": 45,
      "outputs": [
        {
          "output_type": "execute_result",
          "data": {
            "text/plain": [
              "{'key0': 'Mangos',\n",
              " 'key1': 'Pineapple',\n",
              " 'key2': 'Oranges',\n",
              " 'key3': 'Apples',\n",
              " 'key4': 'Cherries',\n",
              " 'key5': 'Blueberries',\n",
              " 'key6': 'Peaches',\n",
              " 'key7': 'Papayas',\n",
              " 'key8': 'Dragonfruits',\n",
              " 'key9': 'Watermelon'}"
            ]
          },
          "metadata": {},
          "execution_count": 45
        }
      ]
    },
    {
      "cell_type": "code",
      "metadata": {
        "colab": {
          "base_uri": "https://localhost:8080/"
        },
        "id": "MQqJv6ZwsBZ6",
        "outputId": "294a1c21-f8ed-413c-cd6b-c5ba0b57befe"
      },
      "source": [
        "FruitsPrices.keys()"
      ],
      "execution_count": 47,
      "outputs": [
        {
          "output_type": "execute_result",
          "data": {
            "text/plain": [
              "dict_keys(['key0', 'key1', 'key2', 'key3', 'key4', 'key5', 'key6', 'key7', 'key8', 'key9'])"
            ]
          },
          "metadata": {},
          "execution_count": 47
        }
      ]
    },
    {
      "cell_type": "code",
      "metadata": {
        "colab": {
          "base_uri": "https://localhost:8080/"
        },
        "id": "tmq-bAtDsBX_",
        "outputId": "fccddd97-28bc-4279-f074-10060625f0f1"
      },
      "source": [
        "FruitsPrices.values()"
      ],
      "execution_count": 48,
      "outputs": [
        {
          "output_type": "execute_result",
          "data": {
            "text/plain": [
              "dict_values(['Mangos', 'Pineapple', 'Oranges', 'Apples', 'Cherries', 'Blueberries', 'Peaches', 'Papayas', 'Dragonfruits', 'Watermelon'])"
            ]
          },
          "metadata": {},
          "execution_count": 48
        }
      ]
    },
    {
      "cell_type": "code",
      "metadata": {
        "colab": {
          "base_uri": "https://localhost:8080/"
        },
        "id": "Yw38C8JcsBWZ",
        "outputId": "f6b89f01-f6c6-401e-e548-50aa7d0f8a85"
      },
      "source": [
        "FruitsPrices.items()"
      ],
      "execution_count": 49,
      "outputs": [
        {
          "output_type": "execute_result",
          "data": {
            "text/plain": [
              "dict_items([('key0', 'Mangos'), ('key1', 'Pineapple'), ('key2', 'Oranges'), ('key3', 'Apples'), ('key4', 'Cherries'), ('key5', 'Blueberries'), ('key6', 'Peaches'), ('key7', 'Papayas'), ('key8', 'Dragonfruits'), ('key9', 'Watermelon')])"
            ]
          },
          "metadata": {},
          "execution_count": 49
        }
      ]
    },
    {
      "cell_type": "code",
      "metadata": {
        "id": "6La4jN7ZsBUq"
      },
      "source": [
        ""
      ],
      "execution_count": null,
      "outputs": []
    },
    {
      "cell_type": "markdown",
      "metadata": {
        "id": "Fu_j5z0Vhd0N"
      },
      "source": [
        "#Tuples"
      ]
    },
    {
      "cell_type": "code",
      "metadata": {
        "colab": {
          "base_uri": "https://localhost:8080/"
        },
        "id": "omdQNLlPhgRr",
        "outputId": "621ff402-0766-4b89-fd0e-39bc916909c0"
      },
      "source": [
        "prime_number = (2, 3, 5, 7, 11)\n",
        "prime_number"
      ],
      "execution_count": 50,
      "outputs": [
        {
          "output_type": "execute_result",
          "data": {
            "text/plain": [
              "(2, 3, 5, 7, 11)"
            ]
          },
          "metadata": {},
          "execution_count": 50
        }
      ]
    },
    {
      "cell_type": "code",
      "metadata": {
        "colab": {
          "base_uri": "https://localhost:8080/"
        },
        "id": "0h4mMv7zhgPl",
        "outputId": "279d87fa-063c-4440-d43e-2a895781ca8a"
      },
      "source": [
        "type(prime_number)"
      ],
      "execution_count": 51,
      "outputs": [
        {
          "output_type": "execute_result",
          "data": {
            "text/plain": [
              "tuple"
            ]
          },
          "metadata": {},
          "execution_count": 51
        }
      ]
    },
    {
      "cell_type": "code",
      "metadata": {
        "id": "PCqBJOxiw7dT"
      },
      "source": [
        "myTuple = ('name', 110, 12.635)"
      ],
      "execution_count": 52,
      "outputs": []
    },
    {
      "cell_type": "code",
      "metadata": {
        "colab": {
          "base_uri": "https://localhost:8080/"
        },
        "id": "pI1hDdMuw7bW",
        "outputId": "f4df650d-e4d0-465b-fa8a-f12049094fb3"
      },
      "source": [
        "myTuple.count(110)"
      ],
      "execution_count": 53,
      "outputs": [
        {
          "output_type": "execute_result",
          "data": {
            "text/plain": [
              "1"
            ]
          },
          "metadata": {},
          "execution_count": 53
        }
      ]
    },
    {
      "cell_type": "code",
      "metadata": {
        "colab": {
          "base_uri": "https://localhost:8080/"
        },
        "id": "-rjldRo-w7Zp",
        "outputId": "a66dd9a7-6d40-43f2-e24d-6039d611f5f5"
      },
      "source": [
        "prime_number[3]"
      ],
      "execution_count": 54,
      "outputs": [
        {
          "output_type": "execute_result",
          "data": {
            "text/plain": [
              "7"
            ]
          },
          "metadata": {},
          "execution_count": 54
        }
      ]
    },
    {
      "cell_type": "markdown",
      "metadata": {
        "id": "cEYzIzxjw7X4"
      },
      "source": [
        "#Sets"
      ]
    },
    {
      "cell_type": "code",
      "metadata": {
        "id": "mGFeAfpWw7WQ"
      },
      "source": [
        "mySet = set()"
      ],
      "execution_count": 56,
      "outputs": []
    },
    {
      "cell_type": "code",
      "metadata": {
        "colab": {
          "base_uri": "https://localhost:8080/"
        },
        "id": "WJMfqlOJz5vR",
        "outputId": "3b5fb189-1405-4117-9231-3caf5bf8261f"
      },
      "source": [
        "type(mySet)"
      ],
      "execution_count": 57,
      "outputs": [
        {
          "output_type": "execute_result",
          "data": {
            "text/plain": [
              "set"
            ]
          },
          "metadata": {},
          "execution_count": 57
        }
      ]
    },
    {
      "cell_type": "code",
      "metadata": {
        "id": "VwFt9NXqz7c1"
      },
      "source": [
        "mySet.add('Hello')"
      ],
      "execution_count": 58,
      "outputs": []
    },
    {
      "cell_type": "code",
      "metadata": {
        "colab": {
          "base_uri": "https://localhost:8080/"
        },
        "id": "Yqa-VzH4z9gR",
        "outputId": "da1c4476-de2d-4c0b-8f45-5225e2fdf19e"
      },
      "source": [
        "mySet"
      ],
      "execution_count": 59,
      "outputs": [
        {
          "output_type": "execute_result",
          "data": {
            "text/plain": [
              "{'Hello'}"
            ]
          },
          "metadata": {},
          "execution_count": 59
        }
      ]
    },
    {
      "cell_type": "code",
      "metadata": {
        "id": "j34nYS09z-ra"
      },
      "source": [
        "mySet.add(27)"
      ],
      "execution_count": 60,
      "outputs": []
    },
    {
      "cell_type": "code",
      "metadata": {
        "colab": {
          "base_uri": "https://localhost:8080/"
        },
        "id": "wuonsBJs0BPq",
        "outputId": "7ff9c22b-0c4a-4c93-994b-964920e3ee17"
      },
      "source": [
        "mySet"
      ],
      "execution_count": 61,
      "outputs": [
        {
          "output_type": "execute_result",
          "data": {
            "text/plain": [
              "{27, 'Hello'}"
            ]
          },
          "metadata": {},
          "execution_count": 61
        }
      ]
    },
    {
      "cell_type": "code",
      "metadata": {
        "id": "ym2UP2w10C6J"
      },
      "source": [
        "perfect_numbers = [1,4,9,16,25,36,49,49]"
      ],
      "execution_count": 62,
      "outputs": []
    },
    {
      "cell_type": "code",
      "metadata": {
        "id": "KnWZJUNF0geB"
      },
      "source": [
        "PerNum = set(perfect_numbers)"
      ],
      "execution_count": 63,
      "outputs": []
    },
    {
      "cell_type": "code",
      "metadata": {
        "colab": {
          "base_uri": "https://localhost:8080/"
        },
        "id": "G_wzZtt90lKB",
        "outputId": "c2563fd0-4177-4ec6-9d87-9cdc72fe6ce9"
      },
      "source": [
        "PerNum"
      ],
      "execution_count": 64,
      "outputs": [
        {
          "output_type": "execute_result",
          "data": {
            "text/plain": [
              "{1, 4, 9, 16, 25, 36, 49}"
            ]
          },
          "metadata": {},
          "execution_count": 64
        }
      ]
    },
    {
      "cell_type": "code",
      "metadata": {
        "id": "KmkCpdno0mwi"
      },
      "source": [
        ""
      ],
      "execution_count": null,
      "outputs": []
    }
  ]
}
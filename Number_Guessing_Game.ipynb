{
  "nbformat": 4,
  "nbformat_minor": 0,
  "metadata": {
    "colab": {
      "name": "Number Guessing Game.ipynb",
      "provenance": [],
      "collapsed_sections": [],
      "authorship_tag": "ABX9TyM2b0aRy/sravBMS7+ds6al",
      "include_colab_link": true
    },
    "kernelspec": {
      "name": "python3",
      "display_name": "Python 3"
    },
    "language_info": {
      "name": "python"
    }
  },
  "cells": [
    {
      "cell_type": "markdown",
      "metadata": {
        "id": "view-in-github",
        "colab_type": "text"
      },
      "source": [
        "<a href=\"https://colab.research.google.com/github/JustAMirage/python_basics/blob/main/Number_Guessing_Game.ipynb\" target=\"_parent\"><img src=\"https://colab.research.google.com/assets/colab-badge.svg\" alt=\"Open In Colab\"/></a>"
      ]
    },
    {
      "cell_type": "markdown",
      "metadata": {
        "id": "uE_Vb5jmWi_F"
      },
      "source": [
        "# Number Guessing Game"
      ]
    },
    {
      "cell_type": "markdown",
      "metadata": {
        "id": "ZjOFzSRtW-DT"
      },
      "source": [
        "## Importing Libraries"
      ]
    },
    {
      "cell_type": "code",
      "metadata": {
        "id": "2bo5BpmcW-Bh"
      },
      "source": [
        "import random"
      ],
      "execution_count": 1,
      "outputs": []
    },
    {
      "cell_type": "markdown",
      "metadata": {
        "id": "ijvtwH20W9_x"
      },
      "source": [
        "## Init variables"
      ]
    },
    {
      "cell_type": "code",
      "metadata": {
        "colab": {
          "base_uri": "https://localhost:8080/"
        },
        "id": "heY1EMk0W9-X",
        "outputId": "c2d4bf80-8a7e-487e-8a3c-c876ce527858"
      },
      "source": [
        "player_high = 100\n",
        "player_low = 1\n",
        "guess = []\n",
        "cpu_num = random.randint(1, 100)\n",
        "print(cpu_num)\n",
        "player_num = int(input('Guess what the computer\\'s number between 1-100 is: '))\n",
        "guess.append(player_num)"
      ],
      "execution_count": 13,
      "outputs": [
        {
          "name": "stdout",
          "output_type": "stream",
          "text": [
            "47\n",
            "Guess what the computer's number between 1-100 is: 20\n"
          ]
        }
      ]
    },
    {
      "cell_type": "markdown",
      "metadata": {
        "id": "4mkiBen9XBr1"
      },
      "source": [
        "## init a while loop"
      ]
    },
    {
      "cell_type": "code",
      "metadata": {
        "colab": {
          "base_uri": "https://localhost:8080/"
        },
        "id": "O5xBYiO2W98n",
        "outputId": "eea21cab-49a9-4e77-bcf3-835cccd3aa85"
      },
      "source": [
        "while player_num != cpu_num:\n",
        "  if player_num > cpu_num:\n",
        "    print('Too high.')\n",
        "    if player_num < player_high:\n",
        "      player_high = player_num\n",
        "  else:\n",
        "    print('Too low.')\n",
        "    if player_num > player_low:\n",
        "      player_low = player_num\n",
        "  player_num = int(input(f'Guess what the computer\\'s number between {player_low}-{player_high} is: '))\n",
        "\n",
        "  guess.append(player_num)\n",
        "else:\n",
        "  print(f'Well done. The computer\\'s number was{cpu_num}.')"
      ],
      "execution_count": 14,
      "outputs": [
        {
          "output_type": "stream",
          "name": "stdout",
          "text": [
            "Too low.\n",
            "Guess what the computer's number between 20-100 is: 90\n",
            "Too high.\n",
            "Guess what the computer's number between 20-90 is: 48\n",
            "Too high.\n",
            "Guess what the computer's number between 20-48 is: 30\n",
            "Too low.\n",
            "Guess what the computer's number between 30-48 is: 46\n",
            "Too low.\n",
            "Guess what the computer's number between 46-48 is: 48\n",
            "Too high.\n",
            "Guess what the computer's number between 46-48 is: 47\n",
            "Well done.\n"
          ]
        }
      ]
    },
    {
      "cell_type": "code",
      "metadata": {
        "id": "mN0wK4SQXB70"
      },
      "source": [
        ""
      ],
      "execution_count": null,
      "outputs": []
    },
    {
      "cell_type": "code",
      "metadata": {
        "id": "tftu7YyUXB3c"
      },
      "source": [
        ""
      ],
      "execution_count": null,
      "outputs": []
    }
  ]
}
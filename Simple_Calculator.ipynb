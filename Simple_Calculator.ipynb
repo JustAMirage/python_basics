{
  "nbformat": 4,
  "nbformat_minor": 0,
  "metadata": {
    "colab": {
      "name": "Simple Calculator.ipynb",
      "provenance": [],
      "collapsed_sections": [],
      "authorship_tag": "ABX9TyPcrJCtQbTPKr9WE2MMPnvQ",
      "include_colab_link": true
    },
    "kernelspec": {
      "name": "python3",
      "display_name": "Python 3"
    },
    "language_info": {
      "name": "python"
    }
  },
  "cells": [
    {
      "cell_type": "markdown",
      "metadata": {
        "id": "view-in-github",
        "colab_type": "text"
      },
      "source": [
        "<a href=\"https://colab.research.google.com/github/JustAMirage/python_basics/blob/main/Simple_Calculator.ipynb\" target=\"_parent\"><img src=\"https://colab.research.google.com/assets/colab-badge.svg\" alt=\"Open In Colab\"/></a>"
      ]
    },
    {
      "cell_type": "code",
      "metadata": {
        "colab": {
          "base_uri": "https://localhost:8080/"
        },
        "id": "roUiVXmubSMH",
        "outputId": "6e2e4f58-35cb-49bc-e848-020edadda951"
      },
      "source": [
        "def add(x, y):\n",
        "  return x + y\n",
        "\n",
        "def subtract(x, y):\n",
        "  return x - y\n",
        "\n",
        "def multiply(x, y):\n",
        "  return x * y\n",
        "\n",
        "def divide(x, y):\n",
        "  return x / y\n",
        "\n",
        "print('Select an operation: \\n 1 - Addition \\n 2 - Subtraction \\n 3 - Multiply \\n 4 - Divide')\n",
        "\n",
        "choice = input('Enter a choice (1/2/3/4): ')\n",
        "\n",
        "num1 = int(input('Enter the first number: '))\n",
        "num2 = int(input('Enter the second number: '))\n",
        "\n",
        "if choice == '1':\n",
        "  print(f'{num1} + {num2} = {add(num1, num2)}')\n",
        "elif choice == '2':\n",
        "  print(f'{num1} - {num2} = {subtract(num1, num2)}')\n",
        "elif choice == '3':\n",
        "  print(f'{num1} * {num2} = {multiply(num1, num2)}')\n",
        "elif choice == '4':\n",
        "  print(f'{num1} / {num2} = {divide(num1, num2)}')\n",
        "else:\n",
        "  print('Invalid input.')"
      ],
      "execution_count": null,
      "outputs": [
        {
          "name": "stdout",
          "output_type": "stream",
          "text": [
            "Select an operation: \n",
            " 1 - Addition \n",
            " 2 - Subtraction \n",
            " 3 - Multiply \n",
            " 4 - Divide\n",
            "Enter a choice (1/2/3/4): 6\n"
          ]
        }
      ]
    },
    {
      "cell_type": "code",
      "metadata": {
        "id": "dGLokygucK-T"
      },
      "source": [
        ""
      ],
      "execution_count": null,
      "outputs": []
    }
  ]
}
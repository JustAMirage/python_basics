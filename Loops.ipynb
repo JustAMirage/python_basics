{
  "nbformat": 4,
  "nbformat_minor": 0,
  "metadata": {
    "colab": {
      "name": "Loops.ipynb",
      "provenance": [],
      "collapsed_sections": [
        "ncovBrW6-5U6"
      ],
      "authorship_tag": "ABX9TyPST+RJQhEo7/ZZkpg/GM+s",
      "include_colab_link": true
    },
    "kernelspec": {
      "name": "python3",
      "display_name": "Python 3"
    },
    "language_info": {
      "name": "python"
    }
  },
  "cells": [
    {
      "cell_type": "markdown",
      "metadata": {
        "id": "view-in-github",
        "colab_type": "text"
      },
      "source": [
        "<a href=\"https://colab.research.google.com/github/JustAMirage/python_basics/blob/main/Loops.ipynb\" target=\"_parent\"><img src=\"https://colab.research.google.com/assets/colab-badge.svg\" alt=\"Open In Colab\"/></a>"
      ]
    },
    {
      "cell_type": "markdown",
      "metadata": {
        "id": "vwOI_3tD-3Er"
      },
      "source": [
        "#Loops"
      ]
    },
    {
      "cell_type": "markdown",
      "metadata": {
        "id": "ncovBrW6-5U6"
      },
      "source": [
        "##For Loop"
      ]
    },
    {
      "cell_type": "code",
      "metadata": {
        "colab": {
          "base_uri": "https://localhost:8080/"
        },
        "id": "xZpH2Y8Z-5TV",
        "outputId": "e71b6fb4-e9ca-44ba-b5ed-81123de91976"
      },
      "source": [
        "#init list\n",
        "my_list = [1,2,3,4,5,6,7,8,9,10,11,12,13,14,15,16,17,18,19,20]\n",
        "my_list"
      ],
      "execution_count": 13,
      "outputs": [
        {
          "output_type": "execute_result",
          "data": {
            "text/plain": [
              "[1, 2, 3, 4, 5, 6, 7, 8, 9, 10, 11, 12, 13, 14, 15, 16, 17, 18, 19, 20]"
            ]
          },
          "metadata": {},
          "execution_count": 13
        }
      ]
    },
    {
      "cell_type": "code",
      "metadata": {
        "colab": {
          "base_uri": "https://localhost:8080/"
        },
        "id": "QxeLAoiS-5R-",
        "outputId": "f49bcf4a-d4bd-4182-e140-abdce51a8970"
      },
      "source": [
        "#print all items in list\n",
        "for i in my_list:\n",
        "    print(i)"
      ],
      "execution_count": 26,
      "outputs": [
        {
          "output_type": "stream",
          "name": "stdout",
          "text": [
            "1\n",
            "2\n",
            "3\n",
            "4\n",
            "5\n",
            "6\n",
            "7\n",
            "8\n",
            "9\n",
            "10\n",
            "11\n",
            "12\n",
            "13\n",
            "14\n",
            "15\n",
            "16\n",
            "17\n",
            "18\n",
            "19\n",
            "20\n"
          ]
        }
      ]
    },
    {
      "cell_type": "code",
      "metadata": {
        "colab": {
          "base_uri": "https://localhost:8080/"
        },
        "id": "egK5kuEI-5QV",
        "outputId": "b9fcf65e-17e5-4009-9f7a-ef94a8ac8240"
      },
      "source": [
        "#print 10 items but add 2 to them\n",
        "for i in range(10):\n",
        "  print(i+2)"
      ],
      "execution_count": 10,
      "outputs": [
        {
          "output_type": "stream",
          "name": "stdout",
          "text": [
            "2\n",
            "3\n",
            "4\n",
            "5\n",
            "6\n",
            "7\n",
            "8\n",
            "9\n",
            "10\n",
            "11\n"
          ]
        }
      ]
    },
    {
      "cell_type": "code",
      "metadata": {
        "colab": {
          "base_uri": "https://localhost:8080/"
        },
        "id": "eBjY05yp-5O1",
        "outputId": "e73f00eb-7465-42d6-b6e5-3fc5c491bd40"
      },
      "source": [
        "#iterate through 1-10 by 1 step and print\n",
        "for i in range(1, 10, 1):\n",
        "    print(i)"
      ],
      "execution_count": 11,
      "outputs": [
        {
          "output_type": "stream",
          "name": "stdout",
          "text": [
            "1\n",
            "2\n",
            "3\n",
            "4\n",
            "5\n",
            "6\n",
            "7\n",
            "8\n",
            "9\n"
          ]
        }
      ]
    },
    {
      "cell_type": "code",
      "metadata": {
        "colab": {
          "base_uri": "https://localhost:8080/"
        },
        "id": "Bvwswwi5-5ND",
        "outputId": "95320267-a9db-4029-f351-ac8482a350e9"
      },
      "source": [
        "##iterate through 10-1 by -1 step and print\n",
        "for i in range(10, 1, -1):\n",
        "  print(i)"
      ],
      "execution_count": 12,
      "outputs": [
        {
          "output_type": "stream",
          "name": "stdout",
          "text": [
            "10\n",
            "9\n",
            "8\n",
            "7\n",
            "6\n",
            "5\n",
            "4\n",
            "3\n",
            "2\n"
          ]
        }
      ]
    },
    {
      "cell_type": "code",
      "metadata": {
        "colab": {
          "base_uri": "https://localhost:8080/"
        },
        "id": "YiWW11bO-5Lb",
        "outputId": "6772cdf8-788b-4887-f3ed-8923ec878be9"
      },
      "source": [
        "#mod 5 by 3\n",
        "5 % 3"
      ],
      "execution_count": 14,
      "outputs": [
        {
          "output_type": "execute_result",
          "data": {
            "text/plain": [
              "2"
            ]
          },
          "metadata": {},
          "execution_count": 14
        }
      ]
    },
    {
      "cell_type": "code",
      "metadata": {
        "colab": {
          "base_uri": "https://localhost:8080/"
        },
        "id": "93TTZUkf-5CS",
        "outputId": "9ca99dd2-2d62-458c-b9b5-0217f2c5455e"
      },
      "source": [
        "#print evens in list\n",
        "for i in my_list:\n",
        "  if i % 2 == 0:\n",
        "    print(i)"
      ],
      "execution_count": 18,
      "outputs": [
        {
          "output_type": "stream",
          "name": "stdout",
          "text": [
            "2\n",
            "4\n",
            "6\n",
            "8\n",
            "10\n",
            "12\n",
            "14\n",
            "16\n",
            "18\n",
            "20\n"
          ]
        }
      ]
    },
    {
      "cell_type": "code",
      "metadata": {
        "colab": {
          "base_uri": "https://localhost:8080/"
        },
        "id": "LqGFRIbr-4_H",
        "outputId": "633f1f5a-19d2-4d0c-f8aa-1de24fe940a7"
      },
      "source": [
        "#print i + 3\n",
        "for i in my_list:\n",
        "  print (i + 3)"
      ],
      "execution_count": 19,
      "outputs": [
        {
          "output_type": "stream",
          "name": "stdout",
          "text": [
            "4\n",
            "5\n",
            "6\n",
            "7\n",
            "8\n",
            "9\n",
            "10\n",
            "11\n",
            "12\n",
            "13\n",
            "14\n",
            "15\n",
            "16\n",
            "17\n",
            "18\n",
            "19\n",
            "20\n",
            "21\n",
            "22\n",
            "23\n"
          ]
        }
      ]
    },
    {
      "cell_type": "code",
      "metadata": {
        "colab": {
          "base_uri": "https://localhost:8080/"
        },
        "id": "EQXoJV8Y-47m",
        "outputId": "333a3480-834c-49b9-a1a1-89801ee7d4be"
      },
      "source": [
        "#print i * 17\n",
        "for i in my_list:\n",
        "  print(i * 17)"
      ],
      "execution_count": 21,
      "outputs": [
        {
          "output_type": "stream",
          "name": "stdout",
          "text": [
            "17\n",
            "34\n",
            "51\n",
            "68\n",
            "85\n",
            "102\n",
            "119\n",
            "136\n",
            "153\n",
            "170\n",
            "187\n",
            "204\n",
            "221\n",
            "238\n",
            "255\n",
            "272\n",
            "289\n",
            "306\n",
            "323\n",
            "340\n"
          ]
        }
      ]
    },
    {
      "cell_type": "code",
      "metadata": {
        "colab": {
          "base_uri": "https://localhost:8080/"
        },
        "id": "R_DAznlt-452",
        "outputId": "99e7879d-914e-4ef9-8e2f-d1ca101a2f94"
      },
      "source": [
        "#print i ^ 5\n",
        "for i in my_list:\n",
        "  print(i ** 5)"
      ],
      "execution_count": 23,
      "outputs": [
        {
          "output_type": "stream",
          "name": "stdout",
          "text": [
            "1\n",
            "32\n",
            "243\n",
            "1024\n",
            "3125\n",
            "7776\n",
            "16807\n",
            "32768\n",
            "59049\n",
            "100000\n",
            "161051\n",
            "248832\n",
            "371293\n",
            "537824\n",
            "759375\n",
            "1048576\n",
            "1419857\n",
            "1889568\n",
            "2476099\n",
            "3200000\n"
          ]
        }
      ]
    },
    {
      "cell_type": "code",
      "metadata": {
        "id": "9CspRFsf-42J"
      },
      "source": [
        "#print string\n",
        "myString = 'Hellow World'"
      ],
      "execution_count": 24,
      "outputs": []
    },
    {
      "cell_type": "code",
      "metadata": {
        "colab": {
          "base_uri": "https://localhost:8080/"
        },
        "id": "cnC8BEcO-40Z",
        "outputId": "7c3b47c5-011b-4046-8f68-76e341d09732"
      },
      "source": [
        "for letter in myString:\n",
        "  print(letter)"
      ],
      "execution_count": 25,
      "outputs": [
        {
          "output_type": "stream",
          "name": "stdout",
          "text": [
            "H\n",
            "e\n",
            "l\n",
            "l\n",
            "o\n",
            "w\n",
            " \n",
            "W\n",
            "o\n",
            "r\n",
            "l\n",
            "d\n"
          ]
        }
      ]
    },
    {
      "cell_type": "code",
      "metadata": {
        "id": "NTLmOCEU-4y0"
      },
      "source": [
        "for i in range(0, len(my_list)):\n",
        "  print('Iteration #:', i+1)\n",
        "  for i in range(i+1, len(my_list)):\n",
        "    print('The outside loop value is: ', my_list[i], 'The inner loop value is ', my_list[i])"
      ],
      "execution_count": null,
      "outputs": []
    },
    {
      "cell_type": "code",
      "metadata": {
        "id": "aH4f3aGfZqsX"
      },
      "source": [
        ""
      ],
      "execution_count": null,
      "outputs": []
    },
    {
      "cell_type": "code",
      "metadata": {
        "colab": {
          "base_uri": "https://localhost:8080/"
        },
        "id": "TLhzfr2G-4xP",
        "outputId": "ac418607-4183-46a5-f476-cf5dfffbed53"
      },
      "source": [
        "#initialize string\n",
        "myString = 'Hello World'\n",
        "#print the letters in the string in order\n",
        "for letter in myString:\n",
        "  print(letter)"
      ],
      "execution_count": 35,
      "outputs": [
        {
          "output_type": "stream",
          "name": "stdout",
          "text": [
            "H\n",
            "e\n",
            "l\n",
            "l\n",
            "o\n",
            " \n",
            "W\n",
            "o\n",
            "r\n",
            "l\n",
            "d\n"
          ]
        }
      ]
    },
    {
      "cell_type": "code",
      "metadata": {
        "colab": {
          "base_uri": "https://localhost:8080/"
        },
        "id": "sXAcZkheZhoz",
        "outputId": "ab204f78-6c0c-4816-9e0a-238d8d147193"
      },
      "source": [
        "#for this loop iterate the string\n",
        "for i in \"string\":\n",
        "  #print the current letter\n",
        "  print(i)"
      ],
      "execution_count": 36,
      "outputs": [
        {
          "output_type": "stream",
          "name": "stdout",
          "text": [
            "s\n",
            "t\n",
            "r\n",
            "i\n",
            "n\n",
            "g\n"
          ]
        }
      ]
    },
    {
      "cell_type": "code",
      "metadata": {
        "colab": {
          "base_uri": "https://localhost:8080/"
        },
        "id": "y6ZCqWbtZ2lS",
        "outputId": "f27ff331-e5a0-460f-da1a-7c916584ddb9"
      },
      "source": [
        "#List comprised of tuples\n",
        "my_list = [(1,2,3),(3,4,5),(5,6,7),(7,8,9)]\n",
        "#get the length of the list; how many tuples (elements)\n",
        "len(my_list)"
      ],
      "execution_count": 40,
      "outputs": [
        {
          "output_type": "execute_result",
          "data": {
            "text/plain": [
              "4"
            ]
          },
          "metadata": {},
          "execution_count": 40
        }
      ]
    },
    {
      "cell_type": "code",
      "metadata": {
        "colab": {
          "base_uri": "https://localhost:8080/"
        },
        "id": "yn2j2XNTazxC",
        "outputId": "8f0f1dc1-324b-4909-c0f6-e634ee759c24"
      },
      "source": [
        "#for this loop iterate the list\n",
        "for tup in my_list:\n",
        "  #print each tuple\n",
        "  print(tup)"
      ],
      "execution_count": 38,
      "outputs": [
        {
          "output_type": "stream",
          "name": "stdout",
          "text": [
            "(1, 2)\n",
            "(3, 4)\n",
            "(5, 6)\n",
            "(7, 8)\n"
          ]
        }
      ]
    },
    {
      "cell_type": "code",
      "metadata": {
        "colab": {
          "base_uri": "https://localhost:8080/"
        },
        "id": "Oiz3KbvCa2FS",
        "outputId": "f718a1c9-1c6b-4cf7-bc0e-45a913cd9038"
      },
      "source": [
        "#for this loop iterate the list \n",
        "for a,b,c in my_list:\n",
        "  #print the a iteration\n",
        "  print(a)"
      ],
      "execution_count": 43,
      "outputs": [
        {
          "output_type": "stream",
          "name": "stdout",
          "text": [
            "1\n",
            "3\n",
            "5\n",
            "7\n"
          ]
        }
      ]
    },
    {
      "cell_type": "code",
      "metadata": {
        "colab": {
          "base_uri": "https://localhost:8080/"
        },
        "id": "C4O1lqaYezJz",
        "outputId": "6be3dba6-cf72-4d37-fec4-fdc8f05a463e"
      },
      "source": [
        "#dictionary of integers\n",
        "my_dict = {\"k1\":1, \"l2\":2, \"k3\":3}\n",
        "#iterate the dictionary\n",
        "for i in my_dict:\n",
        "  #print the items in the dictionary\n",
        "  print(i)"
      ],
      "execution_count": 44,
      "outputs": [
        {
          "output_type": "stream",
          "name": "stdout",
          "text": [
            "k1\n",
            "l2\n",
            "k3\n"
          ]
        }
      ]
    },
    {
      "cell_type": "code",
      "metadata": {
        "colab": {
          "base_uri": "https://localhost:8080/"
        },
        "id": "CalA0ssqgmCa",
        "outputId": "edf30fc5-da2c-432e-fc28-1ca51c9e8406"
      },
      "source": [
        "my_dict.values()"
      ],
      "execution_count": 51,
      "outputs": [
        {
          "output_type": "execute_result",
          "data": {
            "text/plain": [
              "dict_values([1, 2, 3])"
            ]
          },
          "metadata": {},
          "execution_count": 51
        }
      ]
    },
    {
      "cell_type": "code",
      "metadata": {
        "colab": {
          "base_uri": "https://localhost:8080/"
        },
        "id": "l_c2WRblh2dL",
        "outputId": "9c042dbe-cfae-4f1f-b142-79502d7f3b9d"
      },
      "source": [
        "for a,b in my_dict:\n",
        "  print(b)"
      ],
      "execution_count": 49,
      "outputs": [
        {
          "output_type": "stream",
          "name": "stdout",
          "text": [
            "1\n",
            "2\n",
            "3\n"
          ]
        }
      ]
    },
    {
      "cell_type": "markdown",
      "metadata": {
        "id": "D6nEq43KjAcT"
      },
      "source": [
        "##While Loops"
      ]
    },
    {
      "cell_type": "code",
      "metadata": {
        "colab": {
          "base_uri": "https://localhost:8080/"
        },
        "id": "P-WVO3fGjmca",
        "outputId": "fe026223-864c-49ac-fc25-a5379b296e18"
      },
      "source": [
        "i = 0\n",
        "while i < 5:\n",
        "  print(i)\n",
        "  i += 1"
      ],
      "execution_count": 56,
      "outputs": [
        {
          "output_type": "stream",
          "name": "stdout",
          "text": [
            "0\n",
            "1\n",
            "2\n",
            "3\n",
            "4\n"
          ]
        }
      ]
    },
    {
      "cell_type": "code",
      "metadata": {
        "colab": {
          "base_uri": "https://localhost:8080/"
        },
        "id": "maFp00AylB7q",
        "outputId": "4aae061a-eef7-4676-e7f6-c3ed01683425"
      },
      "source": [
        "i = 0\n",
        "\n",
        "while i < 5:\n",
        "  print(i)\n",
        "  i += 1\n",
        "else:\n",
        "  print(\"i is not less than 5\")"
      ],
      "execution_count": 59,
      "outputs": [
        {
          "output_type": "stream",
          "name": "stdout",
          "text": [
            "0\n",
            "1\n",
            "2\n",
            "3\n",
            "4\n",
            "i is not less than 5\n"
          ]
        }
      ]
    },
    {
      "cell_type": "code",
      "metadata": {
        "colab": {
          "base_uri": "https://localhost:8080/"
        },
        "id": "bFofizpQl9Fz",
        "outputId": "fa0f8bd2-8f7f-442f-cda3-a899816f993a"
      },
      "source": [
        "i = 10\n",
        "\n",
        "while i < 5:\n",
        "  print(i)\n",
        "  i += 1\n",
        "else:\n",
        "  print(\"i is not less than 5\")"
      ],
      "execution_count": 60,
      "outputs": [
        {
          "output_type": "stream",
          "name": "stdout",
          "text": [
            "i is not less than 5\n"
          ]
        }
      ]
    },
    {
      "cell_type": "code",
      "metadata": {
        "id": "KiDcp_SSmfFS"
      },
      "source": [
        ""
      ],
      "execution_count": null,
      "outputs": []
    }
  ]
}